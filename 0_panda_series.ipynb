{
 "cells": [
  {
   "cell_type": "code",
   "execution_count": 1,
   "id": "ad784a0a",
   "metadata": {},
   "outputs": [],
   "source": [
    "import pandas as pd\n",
    "import numpy as np"
   ]
  },
  {
   "cell_type": "code",
   "execution_count": 2,
   "id": "58c3306d",
   "metadata": {},
   "outputs": [
    {
     "data": {
      "text/plain": [
       "'1.4.3'"
      ]
     },
     "execution_count": 2,
     "metadata": {},
     "output_type": "execute_result"
    }
   ],
   "source": [
    "pd.__version__"
   ]
  },
  {
   "cell_type": "code",
   "execution_count": 3,
   "id": "dbe55dab",
   "metadata": {},
   "outputs": [],
   "source": [
    "ice = [\"Chocolate\", \"Vanila\", \"Straw\", \"Rum\"]"
   ]
  },
  {
   "cell_type": "code",
   "execution_count": 4,
   "id": "b40166e9",
   "metadata": {},
   "outputs": [
    {
     "data": {
      "text/plain": [
       "0    Chocolate\n",
       "1       Vanila\n",
       "2        Straw\n",
       "3          Rum\n",
       "dtype: object"
      ]
     },
     "execution_count": 4,
     "metadata": {},
     "output_type": "execute_result"
    }
   ],
   "source": [
    "pd.Series(ice)"
   ]
  },
  {
   "cell_type": "code",
   "execution_count": 5,
   "id": "f156c74c",
   "metadata": {},
   "outputs": [],
   "source": [
    "lottery = [43, 32, 53, 34, 23]"
   ]
  },
  {
   "cell_type": "code",
   "execution_count": 6,
   "id": "613e0184",
   "metadata": {},
   "outputs": [
    {
     "data": {
      "text/plain": [
       "0    43\n",
       "1    32\n",
       "2    53\n",
       "3    34\n",
       "4    23\n",
       "dtype: int64"
      ]
     },
     "execution_count": 6,
     "metadata": {},
     "output_type": "execute_result"
    }
   ],
   "source": [
    "pd.Series(lottery)"
   ]
  },
  {
   "cell_type": "code",
   "execution_count": 7,
   "id": "6b61c183",
   "metadata": {},
   "outputs": [],
   "source": [
    "regist = [True, False, False, True, False, True, True]"
   ]
  },
  {
   "cell_type": "code",
   "execution_count": 8,
   "id": "96962145",
   "metadata": {},
   "outputs": [
    {
     "data": {
      "text/plain": [
       "0     True\n",
       "1    False\n",
       "2    False\n",
       "3     True\n",
       "4    False\n",
       "5     True\n",
       "6     True\n",
       "dtype: bool"
      ]
     },
     "execution_count": 8,
     "metadata": {},
     "output_type": "execute_result"
    }
   ],
   "source": [
    "pd.Series(regist)"
   ]
  },
  {
   "cell_type": "code",
   "execution_count": 9,
   "id": "c86a4dad",
   "metadata": {},
   "outputs": [],
   "source": [
    "person = {\n",
    "    \"name\": \"Nafew\",\n",
    "    \"Job\": \"Student\",\n",
    "    \"Relationship status\": \"Single\"\n",
    "}"
   ]
  },
  {
   "cell_type": "code",
   "execution_count": 10,
   "id": "65a60580",
   "metadata": {},
   "outputs": [
    {
     "data": {
      "text/plain": [
       "name                     Nafew\n",
       "Job                    Student\n",
       "Relationship status     Single\n",
       "dtype: object"
      ]
     },
     "execution_count": 10,
     "metadata": {},
     "output_type": "execute_result"
    }
   ],
   "source": [
    "pd.Series(person)"
   ]
  },
  {
   "cell_type": "markdown",
   "id": "13f7b310",
   "metadata": {},
   "source": [
    "# Intro to Attribute"
   ]
  },
  {
   "cell_type": "code",
   "execution_count": 11,
   "id": "44ec9646",
   "metadata": {},
   "outputs": [],
   "source": [
    "about_me = [\"smart\", \"Handsome\", \"Charming\", \"Humble\", \"Caring\"]"
   ]
  },
  {
   "cell_type": "code",
   "execution_count": 12,
   "id": "7a82772a",
   "metadata": {},
   "outputs": [
    {
     "data": {
      "text/plain": [
       "0       smart\n",
       "1    Handsome\n",
       "2    Charming\n",
       "3      Humble\n",
       "4      Caring\n",
       "dtype: object"
      ]
     },
     "execution_count": 12,
     "metadata": {},
     "output_type": "execute_result"
    }
   ],
   "source": [
    "pd.Series(about_me)"
   ]
  },
  {
   "cell_type": "code",
   "execution_count": 13,
   "id": "c801d3e3",
   "metadata": {},
   "outputs": [],
   "source": [
    "s = pd.Series(about_me) #to store the pd series"
   ]
  },
  {
   "cell_type": "code",
   "execution_count": 14,
   "id": "60f7b43f",
   "metadata": {},
   "outputs": [
    {
     "data": {
      "text/plain": [
       "array(['smart', 'Handsome', 'Charming', 'Humble', 'Caring'], dtype=object)"
      ]
     },
     "execution_count": 14,
     "metadata": {},
     "output_type": "execute_result"
    }
   ],
   "source": [
    "s.values"
   ]
  },
  {
   "cell_type": "code",
   "execution_count": 15,
   "id": "e17cf2e2",
   "metadata": {},
   "outputs": [
    {
     "data": {
      "text/plain": [
       "RangeIndex(start=0, stop=5, step=1)"
      ]
     },
     "execution_count": 15,
     "metadata": {},
     "output_type": "execute_result"
    }
   ],
   "source": [
    "s.index"
   ]
  },
  {
   "cell_type": "code",
   "execution_count": 16,
   "id": "8211e254",
   "metadata": {},
   "outputs": [
    {
     "data": {
      "text/plain": [
       "dtype('O')"
      ]
     },
     "execution_count": 16,
     "metadata": {},
     "output_type": "execute_result"
    }
   ],
   "source": [
    "s.dtype"
   ]
  },
  {
   "cell_type": "markdown",
   "id": "6532a3f3",
   "metadata": {},
   "source": [
    "# Intro to methods"
   ]
  },
  {
   "cell_type": "code",
   "execution_count": 17,
   "id": "d130080b",
   "metadata": {},
   "outputs": [],
   "source": [
    "prices = [3.1, 4.5, 45.09, 45]"
   ]
  },
  {
   "cell_type": "code",
   "execution_count": 18,
   "id": "0ef8ed25",
   "metadata": {},
   "outputs": [],
   "source": [
    "p = pd.Series(prices)"
   ]
  },
  {
   "cell_type": "code",
   "execution_count": 19,
   "id": "c6330862",
   "metadata": {},
   "outputs": [
    {
     "data": {
      "text/plain": [
       "0     3.10\n",
       "1     4.50\n",
       "2    45.09\n",
       "3    45.00\n",
       "dtype: float64"
      ]
     },
     "execution_count": 19,
     "metadata": {},
     "output_type": "execute_result"
    }
   ],
   "source": [
    "p"
   ]
  },
  {
   "cell_type": "code",
   "execution_count": 20,
   "id": "be12627e",
   "metadata": {},
   "outputs": [
    {
     "data": {
      "text/plain": [
       "97.69"
      ]
     },
     "execution_count": 20,
     "metadata": {},
     "output_type": "execute_result"
    }
   ],
   "source": [
    "p.sum()"
   ]
  },
  {
   "cell_type": "code",
   "execution_count": 21,
   "id": "5c5f8e7a",
   "metadata": {},
   "outputs": [
    {
     "data": {
      "text/plain": [
       "28305.247500000005"
      ]
     },
     "execution_count": 21,
     "metadata": {},
     "output_type": "execute_result"
    }
   ],
   "source": [
    "p.product()"
   ]
  },
  {
   "cell_type": "code",
   "execution_count": 22,
   "id": "531baf98",
   "metadata": {},
   "outputs": [
    {
     "data": {
      "text/plain": [
       "24.4225"
      ]
     },
     "execution_count": 22,
     "metadata": {},
     "output_type": "execute_result"
    }
   ],
   "source": [
    "p.mean()"
   ]
  },
  {
   "cell_type": "markdown",
   "id": "ac1ea06c",
   "metadata": {},
   "source": [
    "# Parameters and Arguments (Sift + tab)"
   ]
  },
  {
   "cell_type": "code",
   "execution_count": 23,
   "id": "2ce06094",
   "metadata": {},
   "outputs": [],
   "source": [
    "week_days = [\"sat\",\"sun\",\"mon\",\"tue\",\"wed\",\"thu\",\"fri\"]\n",
    "fruits = [\"a\", \"f\", \"d\", \"e\", \"d\", \"s\",\"m\"] #not has to be unique # but better to be unique"
   ]
  },
  {
   "cell_type": "code",
   "execution_count": 24,
   "id": "1105d4c8",
   "metadata": {},
   "outputs": [
    {
     "data": {
      "text/plain": [
       "a    sat\n",
       "f    sun\n",
       "d    mon\n",
       "e    tue\n",
       "d    wed\n",
       "s    thu\n",
       "m    fri\n",
       "dtype: object"
      ]
     },
     "execution_count": 24,
     "metadata": {},
     "output_type": "execute_result"
    }
   ],
   "source": [
    "pd.Series(data=week_days, index=fruits)"
   ]
  },
  {
   "cell_type": "code",
   "execution_count": 25,
   "id": "2a83a60f",
   "metadata": {},
   "outputs": [
    {
     "data": {
      "text/plain": [
       "sat    a\n",
       "sun    f\n",
       "mon    d\n",
       "tue    e\n",
       "wed    d\n",
       "thu    s\n",
       "fri    m\n",
       "dtype: object"
      ]
     },
     "execution_count": 25,
     "metadata": {},
     "output_type": "execute_result"
    }
   ],
   "source": [
    "pd.Series(data=fruits, index=week_days)"
   ]
  },
  {
   "cell_type": "markdown",
   "id": "0b79cae4",
   "metadata": {},
   "source": [
    "# Import series with read_csv method"
   ]
  },
  {
   "cell_type": "markdown",
   "id": "23e1a2b1",
   "metadata": {},
   "source": [
    "pd.read_csv() # shift + tab"
   ]
  },
  {
   "cell_type": "code",
   "execution_count": 26,
   "id": "1fd38858",
   "metadata": {
    "scrolled": true
   },
   "outputs": [
    {
     "data": {
      "text/html": [
       "<div>\n",
       "<style scoped>\n",
       "    .dataframe tbody tr th:only-of-type {\n",
       "        vertical-align: middle;\n",
       "    }\n",
       "\n",
       "    .dataframe tbody tr th {\n",
       "        vertical-align: top;\n",
       "    }\n",
       "\n",
       "    .dataframe thead th {\n",
       "        text-align: right;\n",
       "    }\n",
       "</style>\n",
       "<table border=\"1\" class=\"dataframe\">\n",
       "  <thead>\n",
       "    <tr style=\"text-align: right;\">\n",
       "      <th></th>\n",
       "      <th>Pokemon</th>\n",
       "      <th>Type</th>\n",
       "    </tr>\n",
       "  </thead>\n",
       "  <tbody>\n",
       "    <tr>\n",
       "      <th>0</th>\n",
       "      <td>Bulbasaur</td>\n",
       "      <td>Grass</td>\n",
       "    </tr>\n",
       "    <tr>\n",
       "      <th>1</th>\n",
       "      <td>Ivysaur</td>\n",
       "      <td>Grass</td>\n",
       "    </tr>\n",
       "    <tr>\n",
       "      <th>2</th>\n",
       "      <td>Venusaur</td>\n",
       "      <td>Grass</td>\n",
       "    </tr>\n",
       "    <tr>\n",
       "      <th>3</th>\n",
       "      <td>Charmander</td>\n",
       "      <td>Fire</td>\n",
       "    </tr>\n",
       "    <tr>\n",
       "      <th>4</th>\n",
       "      <td>Charmeleon</td>\n",
       "      <td>Fire</td>\n",
       "    </tr>\n",
       "    <tr>\n",
       "      <th>...</th>\n",
       "      <td>...</td>\n",
       "      <td>...</td>\n",
       "    </tr>\n",
       "    <tr>\n",
       "      <th>716</th>\n",
       "      <td>Yveltal</td>\n",
       "      <td>Dark</td>\n",
       "    </tr>\n",
       "    <tr>\n",
       "      <th>717</th>\n",
       "      <td>Zygarde</td>\n",
       "      <td>Dragon</td>\n",
       "    </tr>\n",
       "    <tr>\n",
       "      <th>718</th>\n",
       "      <td>Diancie</td>\n",
       "      <td>Rock</td>\n",
       "    </tr>\n",
       "    <tr>\n",
       "      <th>719</th>\n",
       "      <td>Hoopa</td>\n",
       "      <td>Psychic</td>\n",
       "    </tr>\n",
       "    <tr>\n",
       "      <th>720</th>\n",
       "      <td>Volcanion</td>\n",
       "      <td>Fire</td>\n",
       "    </tr>\n",
       "  </tbody>\n",
       "</table>\n",
       "<p>721 rows × 2 columns</p>\n",
       "</div>"
      ],
      "text/plain": [
       "        Pokemon     Type\n",
       "0     Bulbasaur    Grass\n",
       "1       Ivysaur    Grass\n",
       "2      Venusaur    Grass\n",
       "3    Charmander     Fire\n",
       "4    Charmeleon     Fire\n",
       "..          ...      ...\n",
       "716     Yveltal     Dark\n",
       "717     Zygarde   Dragon\n",
       "718     Diancie     Rock\n",
       "719       Hoopa  Psychic\n",
       "720   Volcanion     Fire\n",
       "\n",
       "[721 rows x 2 columns]"
      ]
     },
     "execution_count": 26,
     "metadata": {},
     "output_type": "execute_result"
    }
   ],
   "source": [
    "pd.read_csv(\"Pokemon.csv\")"
   ]
  },
  {
   "cell_type": "code",
   "execution_count": 27,
   "id": "48a2f4a2",
   "metadata": {},
   "outputs": [
    {
     "data": {
      "text/html": [
       "<div>\n",
       "<style scoped>\n",
       "    .dataframe tbody tr th:only-of-type {\n",
       "        vertical-align: middle;\n",
       "    }\n",
       "\n",
       "    .dataframe tbody tr th {\n",
       "        vertical-align: top;\n",
       "    }\n",
       "\n",
       "    .dataframe thead th {\n",
       "        text-align: right;\n",
       "    }\n",
       "</style>\n",
       "<table border=\"1\" class=\"dataframe\">\n",
       "  <thead>\n",
       "    <tr style=\"text-align: right;\">\n",
       "      <th></th>\n",
       "      <th>Pokemon</th>\n",
       "    </tr>\n",
       "  </thead>\n",
       "  <tbody>\n",
       "    <tr>\n",
       "      <th>0</th>\n",
       "      <td>Bulbasaur</td>\n",
       "    </tr>\n",
       "    <tr>\n",
       "      <th>1</th>\n",
       "      <td>Ivysaur</td>\n",
       "    </tr>\n",
       "    <tr>\n",
       "      <th>2</th>\n",
       "      <td>Venusaur</td>\n",
       "    </tr>\n",
       "    <tr>\n",
       "      <th>3</th>\n",
       "      <td>Charmander</td>\n",
       "    </tr>\n",
       "    <tr>\n",
       "      <th>4</th>\n",
       "      <td>Charmeleon</td>\n",
       "    </tr>\n",
       "    <tr>\n",
       "      <th>...</th>\n",
       "      <td>...</td>\n",
       "    </tr>\n",
       "    <tr>\n",
       "      <th>716</th>\n",
       "      <td>Yveltal</td>\n",
       "    </tr>\n",
       "    <tr>\n",
       "      <th>717</th>\n",
       "      <td>Zygarde</td>\n",
       "    </tr>\n",
       "    <tr>\n",
       "      <th>718</th>\n",
       "      <td>Diancie</td>\n",
       "    </tr>\n",
       "    <tr>\n",
       "      <th>719</th>\n",
       "      <td>Hoopa</td>\n",
       "    </tr>\n",
       "    <tr>\n",
       "      <th>720</th>\n",
       "      <td>Volcanion</td>\n",
       "    </tr>\n",
       "  </tbody>\n",
       "</table>\n",
       "<p>721 rows × 1 columns</p>\n",
       "</div>"
      ],
      "text/plain": [
       "        Pokemon\n",
       "0     Bulbasaur\n",
       "1       Ivysaur\n",
       "2      Venusaur\n",
       "3    Charmander\n",
       "4    Charmeleon\n",
       "..          ...\n",
       "716     Yveltal\n",
       "717     Zygarde\n",
       "718     Diancie\n",
       "719       Hoopa\n",
       "720   Volcanion\n",
       "\n",
       "[721 rows x 1 columns]"
      ]
     },
     "execution_count": 27,
     "metadata": {},
     "output_type": "execute_result"
    }
   ],
   "source": [
    "pd.read_csv(\"Pokemon.csv\", usecols=[\"Pokemon\"])"
   ]
  },
  {
   "cell_type": "code",
   "execution_count": 28,
   "id": "0cc18f37",
   "metadata": {},
   "outputs": [
    {
     "name": "stderr",
     "output_type": "stream",
     "text": [
      "C:\\Users\\who\\AppData\\Local\\Temp\\ipykernel_10216\\1979405435.py:1: FutureWarning: The squeeze argument has been deprecated and will be removed in a future version. Append .squeeze(\"columns\") to the call to squeeze.\n",
      "\n",
      "\n",
      "  pd.read_csv(\"Pokemon.csv\", usecols=[\"Pokemon\"], squeeze=True)\n",
      "C:\\Users\\who\\AppData\\Local\\Temp\\ipykernel_10216\\1979405435.py:2: FutureWarning: The squeeze argument has been deprecated and will be removed in a future version. Append .squeeze(\"columns\") to the call to squeeze.\n",
      "\n",
      "\n",
      "  pd.read_csv(\"google_stock_price.csv\", squeeze=True)\n"
     ]
    },
    {
     "data": {
      "text/plain": [
       "0        50.12\n",
       "1        54.10\n",
       "2        54.65\n",
       "3        52.38\n",
       "4        52.95\n",
       "         ...  \n",
       "3007    772.88\n",
       "3008    771.07\n",
       "3009    773.18\n",
       "3010    771.61\n",
       "3011    782.22\n",
       "Name: Stock Price, Length: 3012, dtype: float64"
      ]
     },
     "execution_count": 28,
     "metadata": {},
     "output_type": "execute_result"
    }
   ],
   "source": [
    "pd.read_csv(\"Pokemon.csv\", usecols=[\"Pokemon\"], squeeze=True)\n",
    "pd.read_csv(\"google_stock_price.csv\", squeeze=True)"
   ]
  },
  {
   "cell_type": "code",
   "execution_count": 29,
   "id": "656aeb3c",
   "metadata": {},
   "outputs": [],
   "source": [
    "pokemon = pd.read_csv(\"Pokemon.csv\", usecols=[\"Pokemon\"])\n",
    "google = pd.read_csv(\"google_stock_price.csv\")"
   ]
  },
  {
   "cell_type": "code",
   "execution_count": 30,
   "id": "6d159018",
   "metadata": {},
   "outputs": [],
   "source": [
    "pok_ser = pokemon.squeeze()\n",
    "goo_ser = google.squeeze()"
   ]
  },
  {
   "cell_type": "code",
   "execution_count": 90,
   "id": "8d0693da",
   "metadata": {},
   "outputs": [
    {
     "name": "stdout",
     "output_type": "stream",
     "text": [
      "<class 'pandas.core.series.Series'>\n",
      "RangeIndex: 721 entries, 0 to 720\n",
      "Series name: Pokemon\n",
      "Non-Null Count  Dtype \n",
      "--------------  ----- \n",
      "721 non-null    object\n",
      "dtypes: object(1)\n",
      "memory usage: 5.8+ KB\n"
     ]
    }
   ],
   "source": [
    "pok_ser.info()"
   ]
  },
  {
   "cell_type": "code",
   "execution_count": 31,
   "id": "2ebe5326",
   "metadata": {},
   "outputs": [
    {
     "data": {
      "text/plain": [
       "0        50.12\n",
       "1        54.10\n",
       "2        54.65\n",
       "3        52.38\n",
       "4        52.95\n",
       "         ...  \n",
       "3007    772.88\n",
       "3008    771.07\n",
       "3009    773.18\n",
       "3010    771.61\n",
       "3011    782.22\n",
       "Name: Stock Price, Length: 3012, dtype: float64"
      ]
     },
     "execution_count": 31,
     "metadata": {},
     "output_type": "execute_result"
    }
   ],
   "source": [
    "goo_ser"
   ]
  },
  {
   "cell_type": "markdown",
   "id": "505ac8ad",
   "metadata": {},
   "source": [
    "# .head and .tail method -- return a specific lists"
   ]
  },
  {
   "cell_type": "code",
   "execution_count": 32,
   "id": "cdde4eb4",
   "metadata": {},
   "outputs": [],
   "source": [
    "pokemon = pd.read_csv(\"Pokemon.csv\", usecols=[\"Pokemon\"])\n",
    "google = pd.read_csv(\"google_stock_price.csv\")\n",
    "\n",
    "pok_ser = pokemon.squeeze()\n",
    "goo_ser = google.squeeze()"
   ]
  },
  {
   "cell_type": "code",
   "execution_count": 33,
   "id": "f3108656",
   "metadata": {},
   "outputs": [
    {
     "data": {
      "text/plain": [
       "0     Bulbasaur\n",
       "1       Ivysaur\n",
       "2      Venusaur\n",
       "3    Charmander\n",
       "4    Charmeleon\n",
       "Name: Pokemon, dtype: object"
      ]
     },
     "execution_count": 33,
     "metadata": {},
     "output_type": "execute_result"
    }
   ],
   "source": [
    "pok_ser.head()"
   ]
  },
  {
   "cell_type": "code",
   "execution_count": 34,
   "id": "56b2fc24",
   "metadata": {},
   "outputs": [
    {
     "data": {
      "text/plain": [
       "3007    772.88\n",
       "3008    771.07\n",
       "3009    773.18\n",
       "3010    771.61\n",
       "3011    782.22\n",
       "Name: Stock Price, dtype: float64"
      ]
     },
     "execution_count": 34,
     "metadata": {},
     "output_type": "execute_result"
    }
   ],
   "source": [
    "goo_ser.tail()"
   ]
  },
  {
   "cell_type": "code",
   "execution_count": 35,
   "id": "8a24d95f",
   "metadata": {},
   "outputs": [
    {
     "data": {
      "text/plain": [
       "0      Bulbasaur\n",
       "1        Ivysaur\n",
       "2       Venusaur\n",
       "3     Charmander\n",
       "4     Charmeleon\n",
       "5      Charizard\n",
       "6       Squirtle\n",
       "7      Wartortle\n",
       "8      Blastoise\n",
       "9       Caterpie\n",
       "10       Metapod\n",
       "11    Butterfree\n",
       "Name: Pokemon, dtype: object"
      ]
     },
     "execution_count": 35,
     "metadata": {},
     "output_type": "execute_result"
    }
   ],
   "source": [
    "pok_ser.head(12)"
   ]
  },
  {
   "cell_type": "code",
   "execution_count": 36,
   "id": "3d34ceb3",
   "metadata": {},
   "outputs": [
    {
     "data": {
      "text/plain": [
       "716      Yveltal\n",
       "717      Zygarde\n",
       "718      Diancie\n",
       "719        Hoopa\n",
       "720    Volcanion\n",
       "Name: Pokemon, dtype: object"
      ]
     },
     "execution_count": 36,
     "metadata": {},
     "output_type": "execute_result"
    }
   ],
   "source": [
    "pok_ser.tail(5)"
   ]
  },
  {
   "cell_type": "code",
   "execution_count": 37,
   "id": "06c7c166",
   "metadata": {},
   "outputs": [
    {
     "data": {
      "text/plain": [
       "721"
      ]
     },
     "execution_count": 37,
     "metadata": {},
     "output_type": "execute_result"
    }
   ],
   "source": [
    "len(pok_ser)"
   ]
  },
  {
   "cell_type": "code",
   "execution_count": 38,
   "id": "612d89bf",
   "metadata": {},
   "outputs": [
    {
     "data": {
      "text/plain": [
       "3012"
      ]
     },
     "execution_count": 38,
     "metadata": {},
     "output_type": "execute_result"
    }
   ],
   "source": [
    "len(goo_ser)"
   ]
  },
  {
   "cell_type": "code",
   "execution_count": 39,
   "id": "dedeb2c5",
   "metadata": {},
   "outputs": [
    {
     "data": {
      "text/plain": [
       "pandas.core.series.Series"
      ]
     },
     "execution_count": 39,
     "metadata": {},
     "output_type": "execute_result"
    }
   ],
   "source": [
    "type(pok_ser)"
   ]
  },
  {
   "cell_type": "code",
   "execution_count": 40,
   "id": "35824ac5",
   "metadata": {},
   "outputs": [
    {
     "data": {
      "text/plain": [
       "['T',\n",
       " '_AXIS_LEN',\n",
       " '_AXIS_ORDERS',\n",
       " '_AXIS_TO_AXIS_NUMBER',\n",
       " '_HANDLED_TYPES',\n",
       " '__abs__',\n",
       " '__add__',\n",
       " '__and__',\n",
       " '__annotations__',\n",
       " '__array__',\n",
       " '__array_priority__',\n",
       " '__array_ufunc__',\n",
       " '__array_wrap__',\n",
       " '__bool__',\n",
       " '__class__',\n",
       " '__contains__',\n",
       " '__copy__',\n",
       " '__deepcopy__',\n",
       " '__delattr__',\n",
       " '__delitem__',\n",
       " '__dict__',\n",
       " '__dir__',\n",
       " '__divmod__',\n",
       " '__doc__',\n",
       " '__eq__',\n",
       " '__finalize__',\n",
       " '__float__',\n",
       " '__floordiv__',\n",
       " '__format__',\n",
       " '__ge__',\n",
       " '__getattr__',\n",
       " '__getattribute__',\n",
       " '__getitem__',\n",
       " '__getstate__',\n",
       " '__gt__',\n",
       " '__hash__',\n",
       " '__iadd__',\n",
       " '__iand__',\n",
       " '__ifloordiv__',\n",
       " '__imod__',\n",
       " '__imul__',\n",
       " '__init__',\n",
       " '__init_subclass__',\n",
       " '__int__',\n",
       " '__invert__',\n",
       " '__ior__',\n",
       " '__ipow__',\n",
       " '__isub__',\n",
       " '__iter__',\n",
       " '__itruediv__',\n",
       " '__ixor__',\n",
       " '__le__',\n",
       " '__len__',\n",
       " '__long__',\n",
       " '__lt__',\n",
       " '__matmul__',\n",
       " '__mod__',\n",
       " '__module__',\n",
       " '__mul__',\n",
       " '__ne__',\n",
       " '__neg__',\n",
       " '__new__',\n",
       " '__nonzero__',\n",
       " '__or__',\n",
       " '__pos__',\n",
       " '__pow__',\n",
       " '__radd__',\n",
       " '__rand__',\n",
       " '__rdivmod__',\n",
       " '__reduce__',\n",
       " '__reduce_ex__',\n",
       " '__repr__',\n",
       " '__rfloordiv__',\n",
       " '__rmatmul__',\n",
       " '__rmod__',\n",
       " '__rmul__',\n",
       " '__ror__',\n",
       " '__round__',\n",
       " '__rpow__',\n",
       " '__rsub__',\n",
       " '__rtruediv__',\n",
       " '__rxor__',\n",
       " '__setattr__',\n",
       " '__setitem__',\n",
       " '__setstate__',\n",
       " '__sizeof__',\n",
       " '__str__',\n",
       " '__sub__',\n",
       " '__subclasshook__',\n",
       " '__truediv__',\n",
       " '__weakref__',\n",
       " '__xor__',\n",
       " '_accessors',\n",
       " '_accum_func',\n",
       " '_add_numeric_operations',\n",
       " '_agg_by_level',\n",
       " '_agg_examples_doc',\n",
       " '_agg_see_also_doc',\n",
       " '_align_frame',\n",
       " '_align_series',\n",
       " '_append',\n",
       " '_arith_method',\n",
       " '_as_manager',\n",
       " '_attrs',\n",
       " '_binop',\n",
       " '_cacher',\n",
       " '_can_hold_na',\n",
       " '_check_inplace_and_allows_duplicate_labels',\n",
       " '_check_inplace_setting',\n",
       " '_check_is_chained_assignment_possible',\n",
       " '_check_label_or_level_ambiguity',\n",
       " '_check_setitem_copy',\n",
       " '_clear_item_cache',\n",
       " '_clip_with_one_bound',\n",
       " '_clip_with_scalar',\n",
       " '_cmp_method',\n",
       " '_consolidate',\n",
       " '_consolidate_inplace',\n",
       " '_construct_axes_dict',\n",
       " '_construct_axes_from_arguments',\n",
       " '_construct_result',\n",
       " '_constructor',\n",
       " '_constructor_expanddim',\n",
       " '_convert',\n",
       " '_convert_dtypes',\n",
       " '_data',\n",
       " '_dir_additions',\n",
       " '_dir_deletions',\n",
       " '_drop_axis',\n",
       " '_drop_labels_or_levels',\n",
       " '_duplicated',\n",
       " '_find_valid_index',\n",
       " '_flags',\n",
       " '_from_mgr',\n",
       " '_get_axis',\n",
       " '_get_axis_name',\n",
       " '_get_axis_number',\n",
       " '_get_axis_resolvers',\n",
       " '_get_block_manager_axis',\n",
       " '_get_bool_data',\n",
       " '_get_cacher',\n",
       " '_get_cleaned_column_resolvers',\n",
       " '_get_index_resolvers',\n",
       " '_get_label_or_level_values',\n",
       " '_get_numeric_data',\n",
       " '_get_value',\n",
       " '_get_values',\n",
       " '_get_values_tuple',\n",
       " '_get_with',\n",
       " '_gotitem',\n",
       " '_hidden_attrs',\n",
       " '_indexed_same',\n",
       " '_info_axis',\n",
       " '_info_axis_name',\n",
       " '_info_axis_number',\n",
       " '_init_dict',\n",
       " '_init_mgr',\n",
       " '_inplace_method',\n",
       " '_internal_names',\n",
       " '_internal_names_set',\n",
       " '_is_cached',\n",
       " '_is_copy',\n",
       " '_is_label_or_level_reference',\n",
       " '_is_label_reference',\n",
       " '_is_level_reference',\n",
       " '_is_mixed_type',\n",
       " '_is_view',\n",
       " '_item_cache',\n",
       " '_ixs',\n",
       " '_logical_func',\n",
       " '_logical_method',\n",
       " '_map_values',\n",
       " '_maybe_update_cacher',\n",
       " '_memory_usage',\n",
       " '_metadata',\n",
       " '_mgr',\n",
       " '_min_count_stat_function',\n",
       " '_name',\n",
       " '_needs_reindex_multi',\n",
       " '_protect_consolidate',\n",
       " '_reduce',\n",
       " '_reindex_axes',\n",
       " '_reindex_indexer',\n",
       " '_reindex_multi',\n",
       " '_reindex_with_indexers',\n",
       " '_rename',\n",
       " '_replace_single',\n",
       " '_repr_data_resource_',\n",
       " '_repr_latex_',\n",
       " '_reset_cache',\n",
       " '_reset_cacher',\n",
       " '_set_as_cached',\n",
       " '_set_axis',\n",
       " '_set_axis_name',\n",
       " '_set_axis_nocheck',\n",
       " '_set_is_copy',\n",
       " '_set_labels',\n",
       " '_set_name',\n",
       " '_set_value',\n",
       " '_set_values',\n",
       " '_set_with',\n",
       " '_set_with_engine',\n",
       " '_slice',\n",
       " '_stat_axis',\n",
       " '_stat_axis_name',\n",
       " '_stat_axis_number',\n",
       " '_stat_function',\n",
       " '_stat_function_ddof',\n",
       " '_take_with_is_copy',\n",
       " '_typ',\n",
       " '_update_inplace',\n",
       " '_validate_dtype',\n",
       " '_values',\n",
       " '_where',\n",
       " 'abs',\n",
       " 'add',\n",
       " 'add_prefix',\n",
       " 'add_suffix',\n",
       " 'agg',\n",
       " 'aggregate',\n",
       " 'align',\n",
       " 'all',\n",
       " 'any',\n",
       " 'append',\n",
       " 'apply',\n",
       " 'argmax',\n",
       " 'argmin',\n",
       " 'argsort',\n",
       " 'array',\n",
       " 'asfreq',\n",
       " 'asof',\n",
       " 'astype',\n",
       " 'at',\n",
       " 'at_time',\n",
       " 'attrs',\n",
       " 'autocorr',\n",
       " 'axes',\n",
       " 'backfill',\n",
       " 'between',\n",
       " 'between_time',\n",
       " 'bfill',\n",
       " 'bool',\n",
       " 'clip',\n",
       " 'combine',\n",
       " 'combine_first',\n",
       " 'compare',\n",
       " 'convert_dtypes',\n",
       " 'copy',\n",
       " 'corr',\n",
       " 'count',\n",
       " 'cov',\n",
       " 'cummax',\n",
       " 'cummin',\n",
       " 'cumprod',\n",
       " 'cumsum',\n",
       " 'describe',\n",
       " 'diff',\n",
       " 'div',\n",
       " 'divide',\n",
       " 'divmod',\n",
       " 'dot',\n",
       " 'drop',\n",
       " 'drop_duplicates',\n",
       " 'droplevel',\n",
       " 'dropna',\n",
       " 'dtype',\n",
       " 'dtypes',\n",
       " 'duplicated',\n",
       " 'empty',\n",
       " 'eq',\n",
       " 'equals',\n",
       " 'ewm',\n",
       " 'expanding',\n",
       " 'explode',\n",
       " 'factorize',\n",
       " 'ffill',\n",
       " 'fillna',\n",
       " 'filter',\n",
       " 'first',\n",
       " 'first_valid_index',\n",
       " 'flags',\n",
       " 'floordiv',\n",
       " 'ge',\n",
       " 'get',\n",
       " 'groupby',\n",
       " 'gt',\n",
       " 'hasnans',\n",
       " 'head',\n",
       " 'hist',\n",
       " 'iat',\n",
       " 'idxmax',\n",
       " 'idxmin',\n",
       " 'iloc',\n",
       " 'index',\n",
       " 'infer_objects',\n",
       " 'info',\n",
       " 'interpolate',\n",
       " 'is_monotonic',\n",
       " 'is_monotonic_decreasing',\n",
       " 'is_monotonic_increasing',\n",
       " 'is_unique',\n",
       " 'isin',\n",
       " 'isna',\n",
       " 'isnull',\n",
       " 'item',\n",
       " 'items',\n",
       " 'iteritems',\n",
       " 'keys',\n",
       " 'kurt',\n",
       " 'kurtosis',\n",
       " 'last',\n",
       " 'last_valid_index',\n",
       " 'le',\n",
       " 'loc',\n",
       " 'lt',\n",
       " 'mad',\n",
       " 'map',\n",
       " 'mask',\n",
       " 'max',\n",
       " 'mean',\n",
       " 'median',\n",
       " 'memory_usage',\n",
       " 'min',\n",
       " 'mod',\n",
       " 'mode',\n",
       " 'mul',\n",
       " 'multiply',\n",
       " 'name',\n",
       " 'nbytes',\n",
       " 'ndim',\n",
       " 'ne',\n",
       " 'nlargest',\n",
       " 'notna',\n",
       " 'notnull',\n",
       " 'nsmallest',\n",
       " 'nunique',\n",
       " 'pad',\n",
       " 'pct_change',\n",
       " 'pipe',\n",
       " 'plot',\n",
       " 'pop',\n",
       " 'pow',\n",
       " 'prod',\n",
       " 'product',\n",
       " 'quantile',\n",
       " 'radd',\n",
       " 'rank',\n",
       " 'ravel',\n",
       " 'rdiv',\n",
       " 'rdivmod',\n",
       " 'reindex',\n",
       " 'reindex_like',\n",
       " 'rename',\n",
       " 'rename_axis',\n",
       " 'reorder_levels',\n",
       " 'repeat',\n",
       " 'replace',\n",
       " 'resample',\n",
       " 'reset_index',\n",
       " 'rfloordiv',\n",
       " 'rmod',\n",
       " 'rmul',\n",
       " 'rolling',\n",
       " 'round',\n",
       " 'rpow',\n",
       " 'rsub',\n",
       " 'rtruediv',\n",
       " 'sample',\n",
       " 'searchsorted',\n",
       " 'sem',\n",
       " 'set_axis',\n",
       " 'set_flags',\n",
       " 'shape',\n",
       " 'shift',\n",
       " 'size',\n",
       " 'skew',\n",
       " 'slice_shift',\n",
       " 'sort_index',\n",
       " 'sort_values',\n",
       " 'squeeze',\n",
       " 'std',\n",
       " 'str',\n",
       " 'sub',\n",
       " 'subtract',\n",
       " 'sum',\n",
       " 'swapaxes',\n",
       " 'swaplevel',\n",
       " 'tail',\n",
       " 'take',\n",
       " 'to_clipboard',\n",
       " 'to_csv',\n",
       " 'to_dict',\n",
       " 'to_excel',\n",
       " 'to_frame',\n",
       " 'to_hdf',\n",
       " 'to_json',\n",
       " 'to_latex',\n",
       " 'to_list',\n",
       " 'to_markdown',\n",
       " 'to_numpy',\n",
       " 'to_period',\n",
       " 'to_pickle',\n",
       " 'to_sql',\n",
       " 'to_string',\n",
       " 'to_timestamp',\n",
       " 'to_xarray',\n",
       " 'transform',\n",
       " 'transpose',\n",
       " 'truediv',\n",
       " 'truncate',\n",
       " 'tz_convert',\n",
       " 'tz_localize',\n",
       " 'unique',\n",
       " 'unstack',\n",
       " 'update',\n",
       " 'value_counts',\n",
       " 'values',\n",
       " 'var',\n",
       " 'view',\n",
       " 'where',\n",
       " 'xs']"
      ]
     },
     "execution_count": 40,
     "metadata": {},
     "output_type": "execute_result"
    }
   ],
   "source": [
    "dir(pok_ser)     # to find available methods for the series"
   ]
  },
  {
   "cell_type": "code",
   "execution_count": 65,
   "id": "6baf62ff",
   "metadata": {},
   "outputs": [
    {
     "data": {
      "text/plain": [
       "<bound method Series.idxmin of 0        50.12\n",
       "1        54.10\n",
       "2        54.65\n",
       "3        52.38\n",
       "4        52.95\n",
       "         ...  \n",
       "3007    772.88\n",
       "3008    771.07\n",
       "3009    773.18\n",
       "3010    771.61\n",
       "3011    782.22\n",
       "Name: Stock Price, Length: 3012, dtype: float64>"
      ]
     },
     "execution_count": 65,
     "metadata": {},
     "output_type": "execute_result"
    }
   ],
   "source": [
    "goo_ser.idxmin"
   ]
  },
  {
   "cell_type": "code",
   "execution_count": 42,
   "id": "2b948842",
   "metadata": {},
   "outputs": [
    {
     "data": {
      "text/plain": [
       "True"
      ]
     },
     "execution_count": 42,
     "metadata": {},
     "output_type": "execute_result"
    }
   ],
   "source": [
    "pok_ser.is_unique"
   ]
  },
  {
   "cell_type": "code",
   "execution_count": 69,
   "id": "da32cb53",
   "metadata": {},
   "outputs": [
    {
     "data": {
      "text/plain": [
       "False"
      ]
     },
     "execution_count": 69,
     "metadata": {},
     "output_type": "execute_result"
    }
   ],
   "source": [
    "goo_ser.is_unique"
   ]
  },
  {
   "cell_type": "code",
   "execution_count": 44,
   "id": "626a06fc",
   "metadata": {},
   "outputs": [
    {
     "data": {
      "text/plain": [
       "['Bulbasaur',\n",
       " 'Ivysaur',\n",
       " 'Venusaur',\n",
       " 'Charmander',\n",
       " 'Charmeleon',\n",
       " 'Charizard',\n",
       " 'Squirtle',\n",
       " 'Wartortle',\n",
       " 'Blastoise',\n",
       " 'Caterpie',\n",
       " 'Metapod',\n",
       " 'Butterfree',\n",
       " 'Weedle',\n",
       " 'Kakuna',\n",
       " 'Beedrill',\n",
       " 'Pidgey',\n",
       " 'Pidgeotto',\n",
       " 'Pidgeot',\n",
       " 'Rattata',\n",
       " 'Raticate',\n",
       " 'Spearow',\n",
       " 'Fearow',\n",
       " 'Ekans',\n",
       " 'Arbok',\n",
       " 'Pikachu',\n",
       " 'Raichu',\n",
       " 'Sandshrew',\n",
       " 'Sandslash',\n",
       " 'Nidoran',\n",
       " 'Nidorina',\n",
       " 'Nidoqueen',\n",
       " 'Nidoran♂',\n",
       " 'Nidorino',\n",
       " 'Nidoking',\n",
       " 'Clefairy',\n",
       " 'Clefable',\n",
       " 'Vulpix',\n",
       " 'Ninetales',\n",
       " 'Jigglypuff',\n",
       " 'Wigglytuff',\n",
       " 'Zubat',\n",
       " 'Golbat',\n",
       " 'Oddish',\n",
       " 'Gloom',\n",
       " 'Vileplume',\n",
       " 'Paras',\n",
       " 'Parasect',\n",
       " 'Venonat',\n",
       " 'Venomoth',\n",
       " 'Diglett',\n",
       " 'Dugtrio',\n",
       " 'Meowth',\n",
       " 'Persian',\n",
       " 'Psyduck',\n",
       " 'Golduck',\n",
       " 'Mankey',\n",
       " 'Primeape',\n",
       " 'Growlithe',\n",
       " 'Arcanine',\n",
       " 'Poliwag',\n",
       " 'Poliwhirl',\n",
       " 'Poliwrath',\n",
       " 'Abra',\n",
       " 'Kadabra',\n",
       " 'Alakazam',\n",
       " 'Machop',\n",
       " 'Machoke',\n",
       " 'Machamp',\n",
       " 'Bellsprout',\n",
       " 'Weepinbell',\n",
       " 'Victreebel',\n",
       " 'Tentacool',\n",
       " 'Tentacruel',\n",
       " 'Geodude',\n",
       " 'Graveler',\n",
       " 'Golem',\n",
       " 'Ponyta',\n",
       " 'Rapidash',\n",
       " 'Slowpoke',\n",
       " 'Slowbro',\n",
       " 'Magnemite',\n",
       " 'Magneton',\n",
       " \"Farfetch'd\",\n",
       " 'Doduo',\n",
       " 'Dodrio',\n",
       " 'Seel',\n",
       " 'Dewgong',\n",
       " 'Grimer',\n",
       " 'Muk',\n",
       " 'Shellder',\n",
       " 'Cloyster',\n",
       " 'Gastly',\n",
       " 'Haunter',\n",
       " 'Gengar',\n",
       " 'Onix',\n",
       " 'Drowzee',\n",
       " 'Hypno',\n",
       " 'Krabby',\n",
       " 'Kingler',\n",
       " 'Voltorb',\n",
       " 'Electrode',\n",
       " 'Exeggcute',\n",
       " 'Exeggutor',\n",
       " 'Cubone',\n",
       " 'Marowak',\n",
       " 'Hitmonlee',\n",
       " 'Hitmonchan',\n",
       " 'Lickitung',\n",
       " 'Koffing',\n",
       " 'Weezing',\n",
       " 'Rhyhorn',\n",
       " 'Rhydon',\n",
       " 'Chansey',\n",
       " 'Tangela',\n",
       " 'Kangaskhan',\n",
       " 'Horsea',\n",
       " 'Seadra',\n",
       " 'Goldeen',\n",
       " 'Seaking',\n",
       " 'Staryu',\n",
       " 'Starmie',\n",
       " 'Mr. Mime',\n",
       " 'Scyther',\n",
       " 'Jynx',\n",
       " 'Electabuzz',\n",
       " 'Magmar',\n",
       " 'Pinsir',\n",
       " 'Tauros',\n",
       " 'Magikarp',\n",
       " 'Gyarados',\n",
       " 'Lapras',\n",
       " 'Ditto',\n",
       " 'Eevee',\n",
       " 'Vaporeon',\n",
       " 'Jolteon',\n",
       " 'Flareon',\n",
       " 'Porygon',\n",
       " 'Omanyte',\n",
       " 'Omastar',\n",
       " 'Kabuto',\n",
       " 'Kabutops',\n",
       " 'Aerodactyl',\n",
       " 'Snorlax',\n",
       " 'Articuno',\n",
       " 'Zapdos',\n",
       " 'Moltres',\n",
       " 'Dratini',\n",
       " 'Dragonair',\n",
       " 'Dragonite',\n",
       " 'Mewtwo',\n",
       " 'Mew',\n",
       " 'Chikorita',\n",
       " 'Bayleef',\n",
       " 'Meganium',\n",
       " 'Cyndaquil',\n",
       " 'Quilava',\n",
       " 'Typhlosion',\n",
       " 'Totodile',\n",
       " 'Croconaw',\n",
       " 'Feraligatr',\n",
       " 'Sentret',\n",
       " 'Furret',\n",
       " 'Hoothoot',\n",
       " 'Noctowl',\n",
       " 'Ledyba',\n",
       " 'Ledian',\n",
       " 'Spinarak',\n",
       " 'Ariados',\n",
       " 'Crobat',\n",
       " 'Chinchou',\n",
       " 'Lanturn',\n",
       " 'Pichu',\n",
       " 'Cleffa',\n",
       " 'Igglybuff',\n",
       " 'Togepi',\n",
       " 'Togetic',\n",
       " 'Natu',\n",
       " 'Xatu',\n",
       " 'Mareep',\n",
       " 'Flaaffy',\n",
       " 'Ampharos',\n",
       " 'Bellossom',\n",
       " 'Marill',\n",
       " 'Azumarill',\n",
       " 'Sudowoodo',\n",
       " 'Politoed',\n",
       " 'Hoppip',\n",
       " 'Skiploom',\n",
       " 'Jumpluff',\n",
       " 'Aipom',\n",
       " 'Sunkern',\n",
       " 'Sunflora',\n",
       " 'Yanma',\n",
       " 'Wooper',\n",
       " 'Quagsire',\n",
       " 'Espeon',\n",
       " 'Umbreon',\n",
       " 'Murkrow',\n",
       " 'Slowking',\n",
       " 'Misdreavus',\n",
       " 'Unown',\n",
       " 'Wobbuffet',\n",
       " 'Girafarig',\n",
       " 'Pineco',\n",
       " 'Forretress',\n",
       " 'Dunsparce',\n",
       " 'Gligar',\n",
       " 'Steelix',\n",
       " 'Snubbull',\n",
       " 'Granbull',\n",
       " 'Qwilfish',\n",
       " 'Scizor',\n",
       " 'Shuckle',\n",
       " 'Heracross',\n",
       " 'Sneasel',\n",
       " 'Teddiursa',\n",
       " 'Ursaring',\n",
       " 'Slugma',\n",
       " 'Magcargo',\n",
       " 'Swinub',\n",
       " 'Piloswine',\n",
       " 'Corsola',\n",
       " 'Remoraid',\n",
       " 'Octillery',\n",
       " 'Delibird',\n",
       " 'Mantine',\n",
       " 'Skarmory',\n",
       " 'Houndour',\n",
       " 'Houndoom',\n",
       " 'Kingdra',\n",
       " 'Phanpy',\n",
       " 'Donphan',\n",
       " 'Porygon2',\n",
       " 'Stantler',\n",
       " 'Smeargle',\n",
       " 'Tyrogue',\n",
       " 'Hitmontop',\n",
       " 'Smoochum',\n",
       " 'Elekid',\n",
       " 'Magby',\n",
       " 'Miltank',\n",
       " 'Blissey',\n",
       " 'Raikou',\n",
       " 'Entei',\n",
       " 'Suicune',\n",
       " 'Larvitar',\n",
       " 'Pupitar',\n",
       " 'Tyranitar',\n",
       " 'Lugia',\n",
       " 'Ho-oh',\n",
       " 'Celebi',\n",
       " 'Treecko',\n",
       " 'Grovyle',\n",
       " 'Sceptile',\n",
       " 'Torchic',\n",
       " 'Combusken',\n",
       " 'Blaziken',\n",
       " 'Mudkip',\n",
       " 'Marshtomp',\n",
       " 'Swampert',\n",
       " 'Poochyena',\n",
       " 'Mightyena',\n",
       " 'Zigzagoon',\n",
       " 'Linoone',\n",
       " 'Wurmple',\n",
       " 'Silcoon',\n",
       " 'Beautifly',\n",
       " 'Cascoon',\n",
       " 'Dustox',\n",
       " 'Lotad',\n",
       " 'Lombre',\n",
       " 'Ludicolo',\n",
       " 'Seedot',\n",
       " 'Nuzleaf',\n",
       " 'Shiftry',\n",
       " 'Taillow',\n",
       " 'Swellow',\n",
       " 'Wingull',\n",
       " 'Pelipper',\n",
       " 'Ralts',\n",
       " 'Kirlia',\n",
       " 'Gardevoir',\n",
       " 'Surskit',\n",
       " 'Masquerain',\n",
       " 'Shroomish',\n",
       " 'Breloom',\n",
       " 'Slakoth',\n",
       " 'Vigoroth',\n",
       " 'Slaking',\n",
       " 'Nincada',\n",
       " 'Ninjask',\n",
       " 'Shedinja',\n",
       " 'Whismur',\n",
       " 'Loudred',\n",
       " 'Exploud',\n",
       " 'Makuhita',\n",
       " 'Hariyama',\n",
       " 'Azurill',\n",
       " 'Nosepass',\n",
       " 'Skitty',\n",
       " 'Delcatty',\n",
       " 'Sableye',\n",
       " 'Mawile',\n",
       " 'Aron',\n",
       " 'Lairon',\n",
       " 'Aggron',\n",
       " 'Meditite',\n",
       " 'Medicham',\n",
       " 'Electrike',\n",
       " 'Manectric',\n",
       " 'Plusle',\n",
       " 'Minun',\n",
       " 'Volbeat',\n",
       " 'Illumise',\n",
       " 'Roselia',\n",
       " 'Gulpin',\n",
       " 'Swalot',\n",
       " 'Carvanha',\n",
       " 'Sharpedo',\n",
       " 'Wailmer',\n",
       " 'Wailord',\n",
       " 'Numel',\n",
       " 'Camerupt',\n",
       " 'Torkoal',\n",
       " 'Spoink',\n",
       " 'Grumpig',\n",
       " 'Spinda',\n",
       " 'Trapinch',\n",
       " 'Vibrava',\n",
       " 'Flygon',\n",
       " 'Cacnea',\n",
       " 'Cacturne',\n",
       " 'Swablu',\n",
       " 'Altaria',\n",
       " 'Zangoose',\n",
       " 'Seviper',\n",
       " 'Lunatone',\n",
       " 'Solrock',\n",
       " 'Barboach',\n",
       " 'Whiscash',\n",
       " 'Corphish',\n",
       " 'Crawdaunt',\n",
       " 'Baltoy',\n",
       " 'Claydol',\n",
       " 'Lileep',\n",
       " 'Cradily',\n",
       " 'Anorith',\n",
       " 'Armaldo',\n",
       " 'Feebas',\n",
       " 'Milotic',\n",
       " 'Castform',\n",
       " 'Kecleon',\n",
       " 'Shuppet',\n",
       " 'Banette',\n",
       " 'Duskull',\n",
       " 'Dusclops',\n",
       " 'Tropius',\n",
       " 'Chimecho',\n",
       " 'Absol',\n",
       " 'Wynaut',\n",
       " 'Snorunt',\n",
       " 'Glalie',\n",
       " 'Spheal',\n",
       " 'Sealeo',\n",
       " 'Walrein',\n",
       " 'Clamperl',\n",
       " 'Huntail',\n",
       " 'Gorebyss',\n",
       " 'Relicanth',\n",
       " 'Luvdisc',\n",
       " 'Bagon',\n",
       " 'Shelgon',\n",
       " 'Salamence',\n",
       " 'Beldum',\n",
       " 'Metang',\n",
       " 'Metagross',\n",
       " 'Regirock',\n",
       " 'Regice',\n",
       " 'Registeel',\n",
       " 'Latias',\n",
       " 'Latios',\n",
       " 'Kyogre',\n",
       " 'Groudon',\n",
       " 'Rayquaza',\n",
       " 'Jirachi',\n",
       " 'Deoxys',\n",
       " 'Turtwig',\n",
       " 'Grotle',\n",
       " 'Torterra',\n",
       " 'Chimchar',\n",
       " 'Monferno',\n",
       " 'Infernape',\n",
       " 'Piplup',\n",
       " 'Prinplup',\n",
       " 'Empoleon',\n",
       " 'Starly',\n",
       " 'Staravia',\n",
       " 'Staraptor',\n",
       " 'Bidoof',\n",
       " 'Bibarel',\n",
       " 'Kricketot',\n",
       " 'Kricketune',\n",
       " 'Shinx',\n",
       " 'Luxio',\n",
       " 'Luxray',\n",
       " 'Budew',\n",
       " 'Roserade',\n",
       " 'Cranidos',\n",
       " 'Rampardos',\n",
       " 'Shieldon',\n",
       " 'Bastiodon',\n",
       " 'Burmy',\n",
       " 'Wormadam',\n",
       " 'Mothim',\n",
       " 'Combee',\n",
       " 'Vespiquen',\n",
       " 'Pachirisu',\n",
       " 'Buizel',\n",
       " 'Floatzel',\n",
       " 'Cherubi',\n",
       " 'Cherrim',\n",
       " 'Shellos',\n",
       " 'Gastrodon',\n",
       " 'Ambipom',\n",
       " 'Drifloon',\n",
       " 'Drifblim',\n",
       " 'Buneary',\n",
       " 'Lopunny',\n",
       " 'Mismagius',\n",
       " 'Honchkrow',\n",
       " 'Glameow',\n",
       " 'Purugly',\n",
       " 'Chingling',\n",
       " 'Stunky',\n",
       " 'Skuntank',\n",
       " 'Bronzor',\n",
       " 'Bronzong',\n",
       " 'Bonsly',\n",
       " 'Mime Jr.',\n",
       " 'Happiny',\n",
       " 'Chatot',\n",
       " 'Spiritomb',\n",
       " 'Gible',\n",
       " 'Gabite',\n",
       " 'Garchomp',\n",
       " 'Munchlax',\n",
       " 'Riolu',\n",
       " 'Lucario',\n",
       " 'Hippopotas',\n",
       " 'Hippowdon',\n",
       " 'Skorupi',\n",
       " 'Drapion',\n",
       " 'Croagunk',\n",
       " 'Toxicroak',\n",
       " 'Carnivine',\n",
       " 'Finneon',\n",
       " 'Lumineon',\n",
       " 'Mantyke',\n",
       " 'Snover',\n",
       " 'Abomasnow',\n",
       " 'Weavile',\n",
       " 'Magnezone',\n",
       " 'Lickilicky',\n",
       " 'Rhyperior',\n",
       " 'Tangrowth',\n",
       " 'Electivire',\n",
       " 'Magmortar',\n",
       " 'Togekiss',\n",
       " 'Yanmega',\n",
       " 'Leafeon',\n",
       " 'Glaceon',\n",
       " 'Gliscor',\n",
       " 'Mamoswine',\n",
       " 'Porygon-Z',\n",
       " 'Gallade',\n",
       " 'Probopass',\n",
       " 'Dusknoir',\n",
       " 'Froslass',\n",
       " 'Rotom',\n",
       " 'Uxie',\n",
       " 'Mesprit',\n",
       " 'Azelf',\n",
       " 'Dialga',\n",
       " 'Palkia',\n",
       " 'Heatran',\n",
       " 'Regigigas',\n",
       " 'Giratina',\n",
       " 'Cresselia',\n",
       " 'Phione',\n",
       " 'Manaphy',\n",
       " 'Darkrai',\n",
       " 'Shaymin',\n",
       " 'Arceus',\n",
       " 'Victini',\n",
       " 'Snivy',\n",
       " 'Servine',\n",
       " 'Serperior',\n",
       " 'Tepig',\n",
       " 'Pignite',\n",
       " 'Emboar',\n",
       " 'Oshawott',\n",
       " 'Dewott',\n",
       " 'Samurott',\n",
       " 'Patrat',\n",
       " 'Watchog',\n",
       " 'Lillipup',\n",
       " 'Herdier',\n",
       " 'Stoutland',\n",
       " 'Purrloin',\n",
       " 'Liepard',\n",
       " 'Pansage',\n",
       " 'Simisage',\n",
       " 'Pansear',\n",
       " 'Simisear',\n",
       " 'Panpour',\n",
       " 'Simipour',\n",
       " 'Munna',\n",
       " 'Musharna',\n",
       " 'Pidove',\n",
       " 'Tranquill',\n",
       " 'Unfezant',\n",
       " 'Blitzle',\n",
       " 'Zebstrika',\n",
       " 'Roggenrola',\n",
       " 'Boldore',\n",
       " 'Gigalith',\n",
       " 'Woobat',\n",
       " 'Swoobat',\n",
       " 'Drilbur',\n",
       " 'Excadrill',\n",
       " 'Audino',\n",
       " 'Timburr',\n",
       " 'Gurdurr',\n",
       " 'Conkeldurr',\n",
       " 'Tympole',\n",
       " 'Palpitoad',\n",
       " 'Seismitoad',\n",
       " 'Throh',\n",
       " 'Sawk',\n",
       " 'Sewaddle',\n",
       " 'Swadloon',\n",
       " 'Leavanny',\n",
       " 'Venipede',\n",
       " 'Whirlipede',\n",
       " 'Scolipede',\n",
       " 'Cottonee',\n",
       " 'Whimsicott',\n",
       " 'Petilil',\n",
       " 'Lilligant',\n",
       " 'Basculin',\n",
       " 'Sandile',\n",
       " 'Krokorok',\n",
       " 'Krookodile',\n",
       " 'Darumaka',\n",
       " 'Darmanitan',\n",
       " 'Maractus',\n",
       " 'Dwebble',\n",
       " 'Crustle',\n",
       " 'Scraggy',\n",
       " 'Scrafty',\n",
       " 'Sigilyph',\n",
       " 'Yamask',\n",
       " 'Cofagrigus',\n",
       " 'Tirtouga',\n",
       " 'Carracosta',\n",
       " 'Archen',\n",
       " 'Archeops',\n",
       " 'Trubbish',\n",
       " 'Garbodor',\n",
       " 'Zorua',\n",
       " 'Zoroark',\n",
       " 'Minccino',\n",
       " 'Cinccino',\n",
       " 'Gothita',\n",
       " 'Gothorita',\n",
       " 'Gothitelle',\n",
       " 'Solosis',\n",
       " 'Duosion',\n",
       " 'Reuniclus',\n",
       " 'Ducklett',\n",
       " 'Swanna',\n",
       " 'Vanillite',\n",
       " 'Vanillish',\n",
       " 'Vanilluxe',\n",
       " 'Deerling',\n",
       " 'Sawsbuck',\n",
       " 'Emolga',\n",
       " 'Karrablast',\n",
       " 'Escavalier',\n",
       " 'Foongus',\n",
       " 'Amoonguss',\n",
       " 'Frillish',\n",
       " 'Jellicent',\n",
       " 'Alomomola',\n",
       " 'Joltik',\n",
       " 'Galvantula',\n",
       " 'Ferroseed',\n",
       " 'Ferrothorn',\n",
       " 'Klink',\n",
       " 'Klang',\n",
       " 'Klinklang',\n",
       " 'Tynamo',\n",
       " 'Eelektrik',\n",
       " 'Eelektross',\n",
       " 'Elgyem',\n",
       " 'Beheeyem',\n",
       " 'Litwick',\n",
       " 'Lampent',\n",
       " 'Chandelure',\n",
       " 'Axew',\n",
       " 'Fraxure',\n",
       " 'Haxorus',\n",
       " 'Cubchoo',\n",
       " 'Beartic',\n",
       " 'Cryogonal',\n",
       " 'Shelmet',\n",
       " 'Accelgor',\n",
       " 'Stunfisk',\n",
       " 'Mienfoo',\n",
       " 'Mienshao',\n",
       " 'Druddigon',\n",
       " 'Golett',\n",
       " 'Golurk',\n",
       " 'Pawniard',\n",
       " 'Bisharp',\n",
       " 'Bouffalant',\n",
       " 'Rufflet',\n",
       " 'Braviary',\n",
       " 'Vullaby',\n",
       " 'Mandibuzz',\n",
       " 'Heatmor',\n",
       " 'Durant',\n",
       " 'Deino',\n",
       " 'Zweilous',\n",
       " 'Hydreigon',\n",
       " 'Larvesta',\n",
       " 'Volcarona',\n",
       " 'Cobalion',\n",
       " 'Terrakion',\n",
       " 'Virizion',\n",
       " 'Tornadus',\n",
       " 'Thundurus',\n",
       " 'Reshiram',\n",
       " 'Zekrom',\n",
       " 'Landorus',\n",
       " 'Kyurem',\n",
       " 'Keldeo',\n",
       " 'Meloetta',\n",
       " 'Genesect',\n",
       " 'Chespin',\n",
       " 'Quilladin',\n",
       " 'Chesnaught',\n",
       " 'Fennekin',\n",
       " 'Braixen',\n",
       " 'Delphox',\n",
       " 'Froakie',\n",
       " 'Frogadier',\n",
       " 'Greninja',\n",
       " 'Bunnelby',\n",
       " 'Diggersby',\n",
       " 'Fletchling',\n",
       " 'Fletchinder',\n",
       " 'Talonflame',\n",
       " 'Scatterbug',\n",
       " 'Spewpa',\n",
       " 'Vivillon',\n",
       " 'Litleo',\n",
       " 'Pyroar',\n",
       " 'Flabébé',\n",
       " 'Floette',\n",
       " 'Florges',\n",
       " 'Skiddo',\n",
       " 'Gogoat',\n",
       " 'Pancham',\n",
       " 'Pangoro',\n",
       " 'Furfrou',\n",
       " 'Espurr',\n",
       " 'Meowstic',\n",
       " 'Honedge',\n",
       " 'Doublade',\n",
       " 'Aegislash',\n",
       " 'Spritzee',\n",
       " 'Aromatisse',\n",
       " 'Swirlix',\n",
       " 'Slurpuff',\n",
       " 'Inkay',\n",
       " 'Malamar',\n",
       " 'Binacle',\n",
       " 'Barbaracle',\n",
       " 'Skrelp',\n",
       " 'Dragalge',\n",
       " 'Clauncher',\n",
       " 'Clawitzer',\n",
       " 'Helioptile',\n",
       " 'Heliolisk',\n",
       " 'Tyrunt',\n",
       " 'Tyrantrum',\n",
       " 'Amaura',\n",
       " 'Aurorus',\n",
       " 'Sylveon',\n",
       " 'Hawlucha',\n",
       " 'Dedenne',\n",
       " 'Carbink',\n",
       " 'Goomy',\n",
       " 'Sliggoo',\n",
       " 'Goodra',\n",
       " 'Klefki',\n",
       " 'Phantump',\n",
       " 'Trevenant',\n",
       " 'Pumpkaboo',\n",
       " 'Gourgeist',\n",
       " 'Bergmite',\n",
       " 'Avalugg',\n",
       " 'Noibat',\n",
       " 'Noivern',\n",
       " 'Xerneas',\n",
       " 'Yveltal',\n",
       " 'Zygarde',\n",
       " 'Diancie',\n",
       " 'Hoopa',\n",
       " 'Volcanion']"
      ]
     },
     "execution_count": 44,
     "metadata": {},
     "output_type": "execute_result"
    }
   ],
   "source": [
    "list(pok_ser)"
   ]
  },
  {
   "cell_type": "code",
   "execution_count": 45,
   "id": "e9e270d6",
   "metadata": {},
   "outputs": [
    {
     "data": {
      "text/plain": [
       "{0: 50.12,\n",
       " 1: 54.1,\n",
       " 2: 54.65,\n",
       " 3: 52.38,\n",
       " 4: 52.95,\n",
       " 5: 53.9,\n",
       " 6: 53.02,\n",
       " 7: 50.95,\n",
       " 8: 51.13,\n",
       " 9: 50.07,\n",
       " 10: 50.7,\n",
       " 11: 49.95,\n",
       " 12: 50.74,\n",
       " 13: 51.1,\n",
       " 14: 51.1,\n",
       " 15: 52.61,\n",
       " 16: 53.7,\n",
       " 17: 55.69,\n",
       " 18: 55.94,\n",
       " 19: 56.93,\n",
       " 20: 58.69,\n",
       " 21: 59.62,\n",
       " 22: 58.86,\n",
       " 23: 59.13,\n",
       " 24: 60.35,\n",
       " 25: 59.86,\n",
       " 26: 59.07,\n",
       " 27: 63.37,\n",
       " 28: 65.47,\n",
       " 29: 64.74,\n",
       " 30: 66.22,\n",
       " 31: 67.46,\n",
       " 32: 69.12,\n",
       " 33: 68.47,\n",
       " 34: 69.36,\n",
       " 35: 68.8,\n",
       " 36: 67.56,\n",
       " 37: 68.63,\n",
       " 38: 70.38,\n",
       " 39: 70.93,\n",
       " 40: 71.98,\n",
       " 41: 74.51,\n",
       " 42: 73.9,\n",
       " 43: 70.17,\n",
       " 44: 74.62,\n",
       " 45: 86.13,\n",
       " 46: 93.61,\n",
       " 47: 90.81,\n",
       " 48: 92.89,\n",
       " 49: 96.55,\n",
       " 50: 95.22,\n",
       " 51: 97.92,\n",
       " 52: 97.34,\n",
       " 53: 95.74,\n",
       " 54: 92.26,\n",
       " 55: 84.59,\n",
       " 56: 86.19,\n",
       " 57: 84.27,\n",
       " 58: 83.85,\n",
       " 59: 91.42,\n",
       " 60: 90.91,\n",
       " 61: 92.34,\n",
       " 62: 86.19,\n",
       " 63: 86.16,\n",
       " 64: 83.69,\n",
       " 65: 84.62,\n",
       " 66: 82.47,\n",
       " 67: 83.68,\n",
       " 68: 87.29,\n",
       " 69: 89.61,\n",
       " 70: 90.43,\n",
       " 71: 90.9,\n",
       " 72: 89.89,\n",
       " 73: 89.61,\n",
       " 74: 90.11,\n",
       " 75: 88.06,\n",
       " 76: 85.63,\n",
       " 77: 84.91,\n",
       " 78: 86.63,\n",
       " 79: 85.74,\n",
       " 80: 85.14,\n",
       " 81: 89.26,\n",
       " 82: 89.8,\n",
       " 83: 88.15,\n",
       " 84: 89.95,\n",
       " 85: 92.42,\n",
       " 86: 91.78,\n",
       " 87: 93.06,\n",
       " 88: 93.86,\n",
       " 89: 95.86,\n",
       " 90: 96.28,\n",
       " 91: 96.35,\n",
       " 92: 98.7,\n",
       " 93: 96.3,\n",
       " 94: 101.25,\n",
       " 95: 97.15,\n",
       " 96: 96.66,\n",
       " 97: 94.18,\n",
       " 98: 96.83,\n",
       " 99: 97.43,\n",
       " 100: 96.67,\n",
       " 101: 97.59,\n",
       " 102: 97.57,\n",
       " 103: 99.89,\n",
       " 104: 101.85,\n",
       " 105: 98.55,\n",
       " 106: 96.86,\n",
       " 107: 94.05,\n",
       " 108: 90.27,\n",
       " 109: 88.47,\n",
       " 110: 94.53,\n",
       " 111: 93.95,\n",
       " 112: 95.07,\n",
       " 113: 97.71,\n",
       " 114: 95.85,\n",
       " 115: 102.88,\n",
       " 116: 105.32,\n",
       " 117: 102.08,\n",
       " 118: 97.92,\n",
       " 119: 99.22,\n",
       " 120: 95.69,\n",
       " 121: 93.9,\n",
       " 122: 93.61,\n",
       " 123: 96.4,\n",
       " 124: 97.52,\n",
       " 125: 99.11,\n",
       " 126: 98.85,\n",
       " 127: 98.88,\n",
       " 128: 95.59,\n",
       " 129: 96.88,\n",
       " 130: 94.35,\n",
       " 131: 92.84,\n",
       " 132: 93.9,\n",
       " 133: 92.94,\n",
       " 134: 92.5,\n",
       " 135: 93.41,\n",
       " 136: 92.86,\n",
       " 137: 94.31,\n",
       " 138: 92.51,\n",
       " 139: 90.58,\n",
       " 140: 89.9,\n",
       " 141: 88.81,\n",
       " 142: 87.41,\n",
       " 143: 89.22,\n",
       " 144: 87.71,\n",
       " 145: 89.56,\n",
       " 146: 89.93,\n",
       " 147: 90.35,\n",
       " 148: 89.21,\n",
       " 149: 89.4,\n",
       " 150: 89.54,\n",
       " 151: 90.62,\n",
       " 152: 89.7,\n",
       " 153: 90.13,\n",
       " 154: 90.16,\n",
       " 155: 89.93,\n",
       " 156: 92.55,\n",
       " 157: 94.19,\n",
       " 158: 94.52,\n",
       " 159: 96.78,\n",
       " 160: 95.93,\n",
       " 161: 96.52,\n",
       " 162: 96.88,\n",
       " 163: 96.37,\n",
       " 164: 95.63,\n",
       " 165: 92.41,\n",
       " 166: 93.39,\n",
       " 167: 95.6,\n",
       " 168: 98.95,\n",
       " 169: 102.01,\n",
       " 170: 107.8,\n",
       " 171: 111.65,\n",
       " 172: 109.27,\n",
       " 173: 109.78,\n",
       " 174: 109.62,\n",
       " 175: 109.89,\n",
       " 176: 111.03,\n",
       " 177: 112.98,\n",
       " 178: 114.14,\n",
       " 179: 113.38,\n",
       " 180: 113.9,\n",
       " 181: 112.9,\n",
       " 182: 113.79,\n",
       " 183: 115.53,\n",
       " 184: 114.25,\n",
       " 185: 114.51,\n",
       " 186: 115.41,\n",
       " 187: 116.45,\n",
       " 188: 119.46,\n",
       " 189: 119.47,\n",
       " 190: 120.68,\n",
       " 191: 127.6,\n",
       " 192: 127.87,\n",
       " 193: 130.27,\n",
       " 194: 129.47,\n",
       " 195: 132.87,\n",
       " 196: 138.5,\n",
       " 197: 143.86,\n",
       " 198: 143.81,\n",
       " 199: 139.99,\n",
       " 200: 145.32,\n",
       " 201: 146.41,\n",
       " 202: 139.64,\n",
       " 203: 143.01,\n",
       " 204: 141.11,\n",
       " 205: 141.23,\n",
       " 206: 139.04,\n",
       " 207: 137.26,\n",
       " 208: 138.58,\n",
       " 209: 140.0,\n",
       " 210: 143.21,\n",
       " 211: 143.78,\n",
       " 212: 144.51,\n",
       " 213: 144.71,\n",
       " 214: 148.48,\n",
       " 215: 151.9,\n",
       " 216: 150.85,\n",
       " 217: 146.21,\n",
       " 218: 146.93,\n",
       " 219: 145.48,\n",
       " 220: 147.71,\n",
       " 221: 145.62,\n",
       " 222: 147.62,\n",
       " 223: 147.97,\n",
       " 224: 146.53,\n",
       " 225: 145.75,\n",
       " 226: 149.28,\n",
       " 227: 150.29,\n",
       " 228: 150.44,\n",
       " 229: 149.62,\n",
       " 230: 154.8,\n",
       " 231: 155.84,\n",
       " 232: 156.81,\n",
       " 233: 151.05,\n",
       " 234: 147.78,\n",
       " 235: 147.9,\n",
       " 236: 148.32,\n",
       " 237: 146.6,\n",
       " 238: 143.74,\n",
       " 239: 145.66,\n",
       " 240: 149.45,\n",
       " 241: 148.5,\n",
       " 242: 148.72,\n",
       " 243: 146.03,\n",
       " 244: 145.48,\n",
       " 245: 145.64,\n",
       " 246: 142.7,\n",
       " 247: 141.88,\n",
       " 248: 144.72,\n",
       " 249: 141.86,\n",
       " 250: 142.68,\n",
       " 251: 142.41,\n",
       " 252: 139.86,\n",
       " 253: 139.86,\n",
       " 254: 136.87,\n",
       " 255: 139.65,\n",
       " 256: 141.14,\n",
       " 257: 141.15,\n",
       " 258: 141.65,\n",
       " 259: 144.08,\n",
       " 260: 143.49,\n",
       " 261: 142.86,\n",
       " 262: 142.98,\n",
       " 263: 144.08,\n",
       " 264: 143.41,\n",
       " 265: 147.29,\n",
       " 266: 147.55,\n",
       " 267: 149.4,\n",
       " 268: 154.72,\n",
       " 269: 155.68,\n",
       " 270: 151.35,\n",
       " 271: 151.16,\n",
       " 272: 149.95,\n",
       " 273: 151.74,\n",
       " 274: 153.8,\n",
       " 275: 155.79,\n",
       " 276: 155.53,\n",
       " 277: 157.52,\n",
       " 278: 156.98,\n",
       " 279: 156.81,\n",
       " 280: 152.85,\n",
       " 281: 154.66,\n",
       " 282: 158.07,\n",
       " 283: 159.18,\n",
       " 284: 155.34,\n",
       " 285: 155.2,\n",
       " 286: 156.22,\n",
       " 287: 156.34,\n",
       " 288: 155.17,\n",
       " 289: 152.9,\n",
       " 290: 150.33,\n",
       " 291: 148.57,\n",
       " 292: 147.92,\n",
       " 293: 152.35,\n",
       " 294: 151.49,\n",
       " 295: 154.2,\n",
       " 296: 151.45,\n",
       " 297: 169.78,\n",
       " 298: 174.15,\n",
       " 299: 173.28,\n",
       " 300: 177.54,\n",
       " 301: 176.35,\n",
       " 302: 178.91,\n",
       " 303: 185.88,\n",
       " 304: 189.5,\n",
       " 305: 189.65,\n",
       " 306: 192.78,\n",
       " 307: 195.02,\n",
       " 308: 197.32,\n",
       " 309: 194.76,\n",
       " 310: 189.39,\n",
       " 311: 195.35,\n",
       " 312: 195.0,\n",
       " 313: 198.29,\n",
       " 314: 196.2,\n",
       " 315: 198.88,\n",
       " 316: 201.52,\n",
       " 317: 199.9,\n",
       " 318: 204.48,\n",
       " 319: 208.03,\n",
       " 320: 211.22,\n",
       " 321: 214.1,\n",
       " 322: 211.53,\n",
       " 323: 201.57,\n",
       " 324: 202.25,\n",
       " 325: 206.84,\n",
       " 326: 208.64,\n",
       " 327: 202.72,\n",
       " 328: 202.07,\n",
       " 329: 201.91,\n",
       " 330: 205.12,\n",
       " 331: 204.4,\n",
       " 332: 206.1,\n",
       " 333: 208.54,\n",
       " 334: 209.27,\n",
       " 335: 211.05,\n",
       " 336: 214.86,\n",
       " 337: 212.09,\n",
       " 338: 214.66,\n",
       " 339: 212.95,\n",
       " 340: 215.8,\n",
       " 341: 215.25,\n",
       " 342: 212.11,\n",
       " 343: 213.13,\n",
       " 344: 209.86,\n",
       " 345: 207.22,\n",
       " 346: 217.4,\n",
       " 347: 222.4,\n",
       " 348: 225.39,\n",
       " 349: 232.6,\n",
       " 350: 233.22,\n",
       " 351: 234.65,\n",
       " 352: 235.58,\n",
       " 353: 231.58,\n",
       " 354: 232.89,\n",
       " 355: 233.32,\n",
       " 356: 222.23,\n",
       " 357: 218.0,\n",
       " 358: 199.53,\n",
       " 359: 213.54,\n",
       " 360: 221.29,\n",
       " 361: 216.28,\n",
       " 362: 216.92,\n",
       " 363: 216.53,\n",
       " 364: 213.2,\n",
       " 365: 216.11,\n",
       " 366: 200.69,\n",
       " 367: 197.82,\n",
       " 368: 190.59,\n",
       " 369: 192.36,\n",
       " 370: 183.78,\n",
       " 371: 184.36,\n",
       " 372: 179.21,\n",
       " 373: 181.12,\n",
       " 374: 172.68,\n",
       " 375: 171.49,\n",
       " 376: 171.02,\n",
       " 377: 183.05,\n",
       " 378: 184.19,\n",
       " 379: 183.11,\n",
       " 380: 182.56,\n",
       " 381: 188.85,\n",
       " 382: 188.51,\n",
       " 383: 194.99,\n",
       " 384: 181.13,\n",
       " 385: 182.22,\n",
       " 386: 188.04,\n",
       " 387: 188.9,\n",
       " 388: 183.87,\n",
       " 389: 182.04,\n",
       " 390: 176.76,\n",
       " 391: 171.33,\n",
       " 392: 168.58,\n",
       " 393: 168.36,\n",
       " 394: 175.4,\n",
       " 395: 172.08,\n",
       " 396: 169.22,\n",
       " 397: 169.73,\n",
       " 398: 173.92,\n",
       " 399: 169.79,\n",
       " 400: 169.94,\n",
       " 401: 170.77,\n",
       " 402: 182.72,\n",
       " 403: 184.66,\n",
       " 404: 188.41,\n",
       " 405: 197.29,\n",
       " 406: 194.03,\n",
       " 407: 194.8,\n",
       " 408: 194.66,\n",
       " 409: 201.97,\n",
       " 410: 203.79,\n",
       " 411: 205.38,\n",
       " 412: 202.88,\n",
       " 413: 207.98,\n",
       " 414: 204.63,\n",
       " 415: 204.27,\n",
       " 416: 200.88,\n",
       " 417: 203.21,\n",
       " 418: 201.92,\n",
       " 419: 205.04,\n",
       " 420: 207.29,\n",
       " 421: 218.33,\n",
       " 422: 220.03,\n",
       " 423: 213.37,\n",
       " 424: 212.77,\n",
       " 425: 209.8,\n",
       " 426: 208.76,\n",
       " 427: 199.25,\n",
       " 428: 197.2,\n",
       " 429: 196.89,\n",
       " 430: 197.18,\n",
       " 431: 196.95,\n",
       " 432: 197.19,\n",
       " 433: 204.2,\n",
       " 434: 201.29,\n",
       " 435: 193.31,\n",
       " 436: 186.88,\n",
       " 437: 187.91,\n",
       " 438: 185.46,\n",
       " 439: 187.06,\n",
       " 440: 185.31,\n",
       " 441: 184.82,\n",
       " 442: 185.29,\n",
       " 443: 187.6,\n",
       " 444: 190.43,\n",
       " 445: 191.3,\n",
       " 446: 190.48,\n",
       " 447: 185.78,\n",
       " 448: 185.72,\n",
       " 449: 191.12,\n",
       " 450: 189.53,\n",
       " 451: 187.03,\n",
       " 452: 194.8,\n",
       " 453: 193.06,\n",
       " 454: 196.45,\n",
       " 455: 193.09,\n",
       " 456: 190.58,\n",
       " 457: 193.07,\n",
       " 458: 192.0,\n",
       " 459: 195.3,\n",
       " 460: 195.15,\n",
       " 461: 193.88,\n",
       " 462: 193.39,\n",
       " 463: 200.86,\n",
       " 464: 199.78,\n",
       " 465: 202.23,\n",
       " 466: 201.91,\n",
       " 467: 200.96,\n",
       " 468: 202.85,\n",
       " 469: 208.7,\n",
       " 470: 209.46,\n",
       " 471: 211.39,\n",
       " 472: 210.52,\n",
       " 473: 211.38,\n",
       " 474: 210.01,\n",
       " 475: 208.89,\n",
       " 476: 212.07,\n",
       " 477: 208.42,\n",
       " 478: 204.21,\n",
       " 479: 201.55,\n",
       " 480: 203.74,\n",
       " 481: 201.32,\n",
       " 482: 199.3,\n",
       " 483: 193.37,\n",
       " 484: 194.86,\n",
       " 485: 195.25,\n",
       " 486: 194.49,\n",
       " 487: 192.56,\n",
       " 488: 191.01,\n",
       " 489: 193.87,\n",
       " 490: 193.11,\n",
       " 491: 187.57,\n",
       " 492: 183.43,\n",
       " 493: 187.51,\n",
       " 494: 186.74,\n",
       " 495: 188.79,\n",
       " 496: 190.31,\n",
       " 497: 188.28,\n",
       " 498: 186.91,\n",
       " 499: 184.07,\n",
       " 500: 184.53,\n",
       " 501: 190.29,\n",
       " 502: 193.67,\n",
       " 503: 192.71,\n",
       " 504: 191.49,\n",
       " 505: 188.46,\n",
       " 506: 188.96,\n",
       " 507: 186.53,\n",
       " 508: 186.68,\n",
       " 509: 186.44,\n",
       " 510: 190.28,\n",
       " 511: 189.29,\n",
       " 512: 190.18,\n",
       " 513: 189.08,\n",
       " 514: 189.11,\n",
       " 515: 191.99,\n",
       " 516: 189.88,\n",
       " 517: 189.06,\n",
       " 518: 188.74,\n",
       " 519: 191.85,\n",
       " 520: 195.75,\n",
       " 521: 203.08,\n",
       " 522: 201.79,\n",
       " 523: 204.74,\n",
       " 524: 207.14,\n",
       " 525: 201.7,\n",
       " 526: 198.3,\n",
       " 527: 203.22,\n",
       " 528: 201.69,\n",
       " 529: 201.79,\n",
       " 530: 203.23,\n",
       " 531: 201.26,\n",
       " 532: 201.59,\n",
       " 533: 200.75,\n",
       " 534: 200.52,\n",
       " 535: 201.82,\n",
       " 536: 207.64,\n",
       " 537: 205.7,\n",
       " 538: 210.04,\n",
       " 539: 214.29,\n",
       " 540: 213.11,\n",
       " 541: 213.04,\n",
       " 542: 213.51,\n",
       " 543: 213.44,\n",
       " 544: 210.66,\n",
       " 545: 210.11,\n",
       " 546: 209.44,\n",
       " 547: 212.82,\n",
       " 548: 229.61,\n",
       " 549: 240.15,\n",
       " 550: 236.42,\n",
       " 551: 243.06,\n",
       " 552: 242.31,\n",
       " 553: 237.36,\n",
       " 554: 238.05,\n",
       " 555: 237.96,\n",
       " 556: 233.52,\n",
       " 557: 234.72,\n",
       " 558: 235.66,\n",
       " 559: 238.24,\n",
       " 560: 236.05,\n",
       " 561: 237.26,\n",
       " 562: 236.08,\n",
       " 563: 236.54,\n",
       " 564: 240.27,\n",
       " 565: 244.41,\n",
       " 566: 245.72,\n",
       " 567: 247.7,\n",
       " 568: 249.15,\n",
       " 569: 247.28,\n",
       " 570: 254.57,\n",
       " 571: 253.75,\n",
       " 572: 252.2,\n",
       " 573: 242.13,\n",
       " 574: 244.51,\n",
       " 575: 242.08,\n",
       " 576: 242.16,\n",
       " 577: 240.16,\n",
       " 578: 242.18,\n",
       " 579: 243.26,\n",
       " 580: 244.11,\n",
       " 581: 241.08,\n",
       " 582: 241.81,\n",
       " 583: 241.72,\n",
       " 584: 240.65,\n",
       " 585: 239.26,\n",
       " 586: 240.82,\n",
       " 587: 239.91,\n",
       " 588: 231.17,\n",
       " 589: 234.08,\n",
       " 590: 231.22,\n",
       " 591: 227.87,\n",
       " 592: 227.56,\n",
       " 593: 228.54,\n",
       " 594: 233.78,\n",
       " 595: 231.05,\n",
       " 596: 230.01,\n",
       " 597: 233.56,\n",
       " 598: 241.39,\n",
       " 599: 243.35,\n",
       " 600: 241.55,\n",
       " 601: 242.51,\n",
       " 602: 244.49,\n",
       " 603: 249.61,\n",
       " 604: 252.25,\n",
       " 605: 251.89,\n",
       " 606: 248.39,\n",
       " 607: 243.67,\n",
       " 608: 244.63,\n",
       " 609: 240.18,\n",
       " 610: 239.29,\n",
       " 611: 249.28,\n",
       " 612: 243.8,\n",
       " 613: 247.67,\n",
       " 614: 245.99,\n",
       " 615: 246.91,\n",
       " 616: 250.5,\n",
       " 617: 240.63,\n",
       " 618: 240.51,\n",
       " 619: 233.35,\n",
       " 620: 235.5,\n",
       " 621: 234.77,\n",
       " 622: 235.28,\n",
       " 623: 230.71,\n",
       " 624: 228.92,\n",
       " 625: 229.32,\n",
       " 626: 232.73,\n",
       " 627: 230.5,\n",
       " 628: 234.74,\n",
       " 629: 235.81,\n",
       " 630: 237.69,\n",
       " 631: 237.69,\n",
       " 632: 235.07,\n",
       " 633: 232.23,\n",
       " 634: 224.16,\n",
       " 635: 224.5,\n",
       " 636: 223.89,\n",
       " 637: 219.12,\n",
       " 638: 220.25,\n",
       " 639: 228.55,\n",
       " 640: 227.59,\n",
       " 641: 227.13,\n",
       " 642: 226.25,\n",
       " 643: 227.15,\n",
       " 644: 221.29,\n",
       " 645: 223.78,\n",
       " 646: 222.87,\n",
       " 647: 220.2,\n",
       " 648: 223.39,\n",
       " 649: 222.42,\n",
       " 650: 228.05,\n",
       " 651: 230.79,\n",
       " 652: 230.68,\n",
       " 653: 232.27,\n",
       " 654: 231.58,\n",
       " 655: 230.71,\n",
       " 656: 230.23,\n",
       " 657: 228.85,\n",
       " 658: 229.04,\n",
       " 659: 236.06,\n",
       " 660: 235.27,\n",
       " 661: 235.52,\n",
       " 662: 233.87,\n",
       " 663: 233.02,\n",
       " 664: 232.03,\n",
       " 665: 233.46,\n",
       " 666: 232.91,\n",
       " 667: 236.9,\n",
       " 668: 236.16,\n",
       " 669: 237.77,\n",
       " 670: 235.59,\n",
       " 671: 241.0,\n",
       " 672: 239.3,\n",
       " 673: 238.53,\n",
       " 674: 238.76,\n",
       " 675: 240.35,\n",
       " 676: 239.27,\n",
       " 677: 235.45,\n",
       " 678: 234.27,\n",
       " 679: 232.66,\n",
       " 680: 236.38,\n",
       " 681: 235.32,\n",
       " 682: 233.4,\n",
       " 683: 233.17,\n",
       " 684: 234.39,\n",
       " 685: 230.5,\n",
       " 686: 233.14,\n",
       " 687: 230.66,\n",
       " 688: 228.77,\n",
       " 689: 236.07,\n",
       " 690: 235.24,\n",
       " 691: 234.92,\n",
       " 692: 235.06,\n",
       " 693: 237.69,\n",
       " 694: 236.75,\n",
       " 695: 236.93,\n",
       " 696: 241.52,\n",
       " 697: 243.31,\n",
       " 698: 249.05,\n",
       " 699: 248.71,\n",
       " 700: 249.95,\n",
       " 701: 253.28,\n",
       " 702: 259.16,\n",
       " 703: 258.87,\n",
       " 704: 257.27,\n",
       " 705: 257.49,\n",
       " 706: 255.41,\n",
       " 707: 252.13,\n",
       " 708: 252.37,\n",
       " 709: 251.17,\n",
       " 710: 252.69,\n",
       " 711: 257.34,\n",
       " 712: 256.9,\n",
       " 713: 254.73,\n",
       " 714: 256.8,\n",
       " 715: 262.23,\n",
       " 716: 263.45,\n",
       " 717: 264.86,\n",
       " 718: 262.88,\n",
       " 719: 262.24,\n",
       " 720: 261.09,\n",
       " 721: 264.92,\n",
       " 722: 266.9,\n",
       " 723: 270.54,\n",
       " 724: 269.43,\n",
       " 725: 271.01,\n",
       " 726: 271.4,\n",
       " 727: 271.96,\n",
       " 728: 272.39,\n",
       " 729: 275.8,\n",
       " 730: 276.22,\n",
       " 731: 277.22,\n",
       " 732: 274.48,\n",
       " 733: 274.02,\n",
       " 734: 259.8,\n",
       " 735: 256.0,\n",
       " 736: 256.74,\n",
       " 737: 254.63,\n",
       " 738: 253.75,\n",
       " 739: 255.69,\n",
       " 740: 257.8,\n",
       " 741: 254.74,\n",
       " 742: 256.21,\n",
       " 743: 255.25,\n",
       " 744: 251.25,\n",
       " 745: 254.74,\n",
       " 746: 257.75,\n",
       " 747: 262.63,\n",
       " 748: 257.11,\n",
       " 749: 257.62,\n",
       " 750: 257.49,\n",
       " 751: 254.05,\n",
       " 752: 248.53,\n",
       " 753: 245.51,\n",
       " 754: 249.77,\n",
       " 755: 248.71,\n",
       " 756: 253.05,\n",
       " 757: 256.12,\n",
       " 758: 255.84,\n",
       " 759: 257.24,\n",
       " 760: 256.37,\n",
       " 761: 252.95,\n",
       " 762: 256.18,\n",
       " 763: 255.44,\n",
       " 764: 257.37,\n",
       " 765: 262.31,\n",
       " 766: 263.64,\n",
       " 767: 261.5,\n",
       " 768: 259.42,\n",
       " 769: 256.98,\n",
       " 770: 260.4,\n",
       " 771: 261.06,\n",
       " 772: 262.13,\n",
       " 773: 264.11,\n",
       " 774: 262.39,\n",
       " 775: 267.37,\n",
       " 776: 273.15,\n",
       " 777: 276.14,\n",
       " 778: 279.77,\n",
       " 779: 283.73,\n",
       " 780: 284.22,\n",
       " 781: 283.8,\n",
       " 782: 283.47,\n",
       " 783: 283.35,\n",
       " 784: 290.98,\n",
       " 785: 291.9,\n",
       " 786: 291.72,\n",
       " 787: 289.23,\n",
       " 788: 296.73,\n",
       " 789: 304.51,\n",
       " 790: 307.28,\n",
       " 791: 312.38,\n",
       " 792: 310.69,\n",
       " 793: 318.38,\n",
       " 794: 309.74,\n",
       " 795: 307.69,\n",
       " 796: 316.42,\n",
       " 797: 319.49,\n",
       " 798: 322.03,\n",
       " 799: 325.05,\n",
       " 800: 337.55,\n",
       " 801: 337.57,\n",
       " 802: 333.92,\n",
       " 803: 336.96,\n",
       " 804: 339.28,\n",
       " 805: 347.04,\n",
       " 806: 353.15,\n",
       " 807: 351.25,\n",
       " 808: 355.27,\n",
       " 809: 362.46,\n",
       " 810: 370.52,\n",
       " 811: 366.1,\n",
       " 812: 346.57,\n",
       " 813: 331.65,\n",
       " 814: 315.72,\n",
       " 815: 329.94,\n",
       " 816: 320.52,\n",
       " 817: 314.51,\n",
       " 818: 316.5,\n",
       " 819: 312.61,\n",
       " 820: 323.95,\n",
       " 821: 329.93,\n",
       " 822: 338.01,\n",
       " 823: 332.7,\n",
       " 824: 336.45,\n",
       " 825: 345.78,\n",
       " 826: 348.15,\n",
       " 827: 346.15,\n",
       " 828: 340.42,\n",
       " 829: 341.74,\n",
       " 830: 348.91,\n",
       " 831: 357.27,\n",
       " 832: 357.08,\n",
       " 833: 358.85,\n",
       " 834: 349.25,\n",
       " 835: 349.33,\n",
       " 836: 346.68,\n",
       " 837: 344.64,\n",
       " 838: 334.28,\n",
       " 839: 336.34,\n",
       " 840: 338.35,\n",
       " 841: 344.5,\n",
       " 842: 348.0,\n",
       " 843: 350.01,\n",
       " 844: 355.06,\n",
       " 845: 350.02,\n",
       " 846: 350.91,\n",
       " 847: 345.39,\n",
       " 848: 342.25,\n",
       " 849: 342.32,\n",
       " 850: 328.17,\n",
       " 851: 324.3,\n",
       " 852: 315.52,\n",
       " 853: 326.27,\n",
       " 854: 323.04,\n",
       " 855: 318.81,\n",
       " 856: 326.58,\n",
       " 857: 318.51,\n",
       " 858: 307.67,\n",
       " 859: 300.09,\n",
       " 860: 299.82,\n",
       " 861: 291.88,\n",
       " 862: 274.04,\n",
       " 863: 286.96,\n",
       " 864: 282.92,\n",
       " 865: 277.71,\n",
       " 866: 274.98,\n",
       " 867: 273.86,\n",
       " 868: 281.87,\n",
       " 869: 257.69,\n",
       " 870: 247.47,\n",
       " 871: 253.15,\n",
       " 872: 250.6,\n",
       " 873: 252.22,\n",
       " 874: 258.09,\n",
       " 875: 260.32,\n",
       " 876: 258.79,\n",
       " 877: 267.04,\n",
       " 878: 265.86,\n",
       " 879: 264.56,\n",
       " 880: 254.22,\n",
       " 881: 254.25,\n",
       " 882: 251.18,\n",
       " 883: 253.65,\n",
       " 884: 242.98,\n",
       " 885: 231.86,\n",
       " 886: 236.19,\n",
       " 887: 237.46,\n",
       " 888: 235.35,\n",
       " 889: 228.28,\n",
       " 890: 222.08,\n",
       " 891: 223.63,\n",
       " 892: 216.13,\n",
       " 893: 216.46,\n",
       " 894: 206.6,\n",
       " 895: 219.7,\n",
       " 896: 219.87,\n",
       " 897: 221.28,\n",
       " 898: 218.74,\n",
       " 899: 209.73,\n",
       " 900: 219.36,\n",
       " 901: 215.78,\n",
       " 902: 216.56,\n",
       " 903: 230.05,\n",
       " 904: 225.16,\n",
       " 905: 228.87,\n",
       " 906: 221.82,\n",
       " 907: 218.82,\n",
       " 908: 220.01,\n",
       " 909: 232.62,\n",
       " 910: 232.62,\n",
       " 911: 227.33,\n",
       " 912: 235.31,\n",
       " 913: 238.17,\n",
       " 914: 233.67,\n",
       " 915: 231.86,\n",
       " 916: 234.3,\n",
       " 917: 228.5,\n",
       " 918: 225.6,\n",
       " 919: 223.2,\n",
       " 920: 227.29,\n",
       " 921: 224.55,\n",
       " 922: 269.44,\n",
       " 923: 268.63,\n",
       " 924: 277.22,\n",
       " 925: 272.97,\n",
       " 926: 271.25,\n",
       " 927: 271.76,\n",
       " 928: 275.78,\n",
       " 929: 278.96,\n",
       " 930: 286.86,\n",
       " 931: 296.24,\n",
       " 932: 290.35,\n",
       " 933: 297.15,\n",
       " 934: 292.89,\n",
       " 935: 289.21,\n",
       " 936: 291.21,\n",
       " 937: 286.3,\n",
       " 938: 292.18,\n",
       " 939: 291.21,\n",
       " 940: 287.86,\n",
       " 941: 290.21,\n",
       " 942: 289.74,\n",
       " 943: 288.47,\n",
       " 944: 289.01,\n",
       " 945: 274.72,\n",
       " 946: 274.46,\n",
       " 947: 272.04,\n",
       " 948: 280.17,\n",
       " 949: 283.84,\n",
       " 950: 291.21,\n",
       " 951: 292.61,\n",
       " 952: 287.21,\n",
       " 953: 283.37,\n",
       " 954: 285.82,\n",
       " 955: 292.86,\n",
       " 956: 283.22,\n",
       " 957: 278.66,\n",
       " 958: 276.81,\n",
       " 959: 272.33,\n",
       " 960: 276.2,\n",
       " 961: 285.47,\n",
       " 962: 286.12,\n",
       " 963: 284.45,\n",
       " 964: 280.91,\n",
       " 965: 279.82,\n",
       " 966: 272.94,\n",
       " 967: 272.33,\n",
       " 968: 270.88,\n",
       " 969: 275.22,\n",
       " 970: 264.15,\n",
       " 971: 263.77,\n",
       " 972: 262.95,\n",
       " 973: 267.1,\n",
       " 974: 263.26,\n",
       " 975: 268.23,\n",
       " 976: 271.68,\n",
       " 977: 276.99,\n",
       " 978: 270.5,\n",
       " 979: 270.02,\n",
       " 980: 266.63,\n",
       " 981: 260.55,\n",
       " 982: 257.79,\n",
       " 983: 267.53,\n",
       " 984: 266.45,\n",
       " 985: 240.42,\n",
       " 986: 234.17,\n",
       " 987: 238.32,\n",
       " 988: 244.37,\n",
       " 989: 237.57,\n",
       " 990: 245.74,\n",
       " 991: 238.32,\n",
       " 992: 241.31,\n",
       " 993: 241.11,\n",
       " 994: 236.64,\n",
       " 995: 233.7,\n",
       " 996: 231.27,\n",
       " 997: 239.69,\n",
       " 998: 242.93,\n",
       " 999: 239.32,\n",
       " ...}"
      ]
     },
     "execution_count": 45,
     "metadata": {},
     "output_type": "execute_result"
    }
   ],
   "source": [
    "dict(goo_ser)"
   ]
  },
  {
   "cell_type": "code",
   "execution_count": 46,
   "id": "cc14944d",
   "metadata": {},
   "outputs": [
    {
     "data": {
      "text/plain": [
       "'Zygarde'"
      ]
     },
     "execution_count": 46,
     "metadata": {},
     "output_type": "execute_result"
    }
   ],
   "source": [
    "max(pok_ser)"
   ]
  },
  {
   "cell_type": "code",
   "execution_count": 47,
   "id": "e1f7ff3b",
   "metadata": {},
   "outputs": [
    {
     "data": {
      "text/plain": [
       "782.22"
      ]
     },
     "execution_count": 47,
     "metadata": {},
     "output_type": "execute_result"
    }
   ],
   "source": [
    "max(goo_ser)"
   ]
  },
  {
   "cell_type": "code",
   "execution_count": 48,
   "id": "a5f8e328",
   "metadata": {},
   "outputs": [
    {
     "data": {
      "text/plain": [
       "49.95"
      ]
     },
     "execution_count": 48,
     "metadata": {},
     "output_type": "execute_result"
    }
   ],
   "source": [
    "min(goo_ser)"
   ]
  },
  {
   "cell_type": "code",
   "execution_count": 49,
   "id": "cb0e5c22",
   "metadata": {},
   "outputs": [
    {
     "data": {
      "text/plain": [
       "'Abomasnow'"
      ]
     },
     "execution_count": 49,
     "metadata": {},
     "output_type": "execute_result"
    }
   ],
   "source": [
    "min(pok_ser)"
   ]
  },
  {
   "cell_type": "markdown",
   "id": "ea9ca4a6",
   "metadata": {},
   "source": [
    "# more attributes"
   ]
  },
  {
   "cell_type": "code",
   "execution_count": 50,
   "id": "75edbb14",
   "metadata": {},
   "outputs": [
    {
     "data": {
      "text/plain": [
       "True"
      ]
     },
     "execution_count": 50,
     "metadata": {},
     "output_type": "execute_result"
    }
   ],
   "source": [
    "pok_ser.is_unique"
   ]
  },
  {
   "cell_type": "code",
   "execution_count": 51,
   "id": "e98b9718",
   "metadata": {},
   "outputs": [
    {
     "data": {
      "text/plain": [
       "1"
      ]
     },
     "execution_count": 51,
     "metadata": {},
     "output_type": "execute_result"
    }
   ],
   "source": [
    "pok_ser.ndim"
   ]
  },
  {
   "cell_type": "code",
   "execution_count": 52,
   "id": "dc2474e9",
   "metadata": {},
   "outputs": [
    {
     "data": {
      "text/plain": [
       "(721,)"
      ]
     },
     "execution_count": 52,
     "metadata": {},
     "output_type": "execute_result"
    }
   ],
   "source": [
    "pok_ser.shape"
   ]
  },
  {
   "cell_type": "code",
   "execution_count": 53,
   "id": "c7c06d5d",
   "metadata": {},
   "outputs": [
    {
     "data": {
      "text/plain": [
       "721"
      ]
     },
     "execution_count": 53,
     "metadata": {},
     "output_type": "execute_result"
    }
   ],
   "source": [
    "pok_ser.size"
   ]
  },
  {
   "cell_type": "code",
   "execution_count": 54,
   "id": "528ab8c1",
   "metadata": {},
   "outputs": [
    {
     "data": {
      "text/plain": [
       "'Pokemon'"
      ]
     },
     "execution_count": 54,
     "metadata": {},
     "output_type": "execute_result"
    }
   ],
   "source": [
    "pok_ser.name"
   ]
  },
  {
   "cell_type": "markdown",
   "id": "0c883257",
   "metadata": {},
   "source": [
    "# use the sort_values() method"
   ]
  },
  {
   "cell_type": "code",
   "execution_count": 55,
   "id": "3f8819d5",
   "metadata": {},
   "outputs": [
    {
     "data": {
      "text/plain": [
       "459    Abomasnow\n",
       "62          Abra\n",
       "358        Absol\n",
       "616     Accelgor\n",
       "680    Aegislash\n",
       "         ...    \n",
       "570      Zoroark\n",
       "569        Zorua\n",
       "40         Zubat\n",
       "633     Zweilous\n",
       "717      Zygarde\n",
       "Name: Pokemon, Length: 721, dtype: object"
      ]
     },
     "execution_count": 55,
     "metadata": {},
     "output_type": "execute_result"
    }
   ],
   "source": [
    "pok_ser.sort_values() # return a new value not modify the original so you can store"
   ]
  },
  {
   "cell_type": "code",
   "execution_count": 56,
   "id": "d9ac571c",
   "metadata": {},
   "outputs": [
    {
     "data": {
      "text/plain": [
       "0       Bulbasaur\n",
       "1         Ivysaur\n",
       "2        Venusaur\n",
       "3      Charmander\n",
       "4      Charmeleon\n",
       "          ...    \n",
       "716       Yveltal\n",
       "717       Zygarde\n",
       "718       Diancie\n",
       "719         Hoopa\n",
       "720     Volcanion\n",
       "Name: Pokemon, Length: 721, dtype: object"
      ]
     },
     "execution_count": 56,
     "metadata": {},
     "output_type": "execute_result"
    }
   ],
   "source": [
    "pok_ser"
   ]
  },
  {
   "cell_type": "code",
   "execution_count": 70,
   "id": "7da53534",
   "metadata": {},
   "outputs": [
    {
     "data": {
      "text/plain": [
       "717      Zygarde\n",
       "633     Zweilous\n",
       "40         Zubat\n",
       "569        Zorua\n",
       "570      Zoroark\n",
       "262    Zigzagoon\n",
       "643       Zekrom\n",
       "522    Zebstrika\n",
       "144       Zapdos\n",
       "334     Zangoose\n",
       "Name: Pokemon, dtype: object"
      ]
     },
     "execution_count": 70,
     "metadata": {},
     "output_type": "execute_result"
    }
   ],
   "source": [
    "pok_ser.sort_values(ascending=False).head(10)"
   ]
  },
  {
   "cell_type": "markdown",
   "id": "ba6d7cf9",
   "metadata": {},
   "source": [
    "# use the inplace= parameters to permanently mutate a pandas data structure"
   ]
  },
  {
   "cell_type": "markdown",
   "id": "733babff",
   "metadata": {},
   "source": [
    "to avoid changing original file lets create another varibale"
   ]
  },
  {
   "cell_type": "code",
   "execution_count": 58,
   "id": "bd8bdc95",
   "metadata": {},
   "outputs": [],
   "source": [
    "# pokemon_m = pd.read_csv(\"pokemon1.csv\", usecols=[\"Pokemon\"])\n",
    "\n",
    "# pok_mut = pokemon_m.squeeze()"
   ]
  },
  {
   "cell_type": "code",
   "execution_count": 59,
   "id": "50e46b9c",
   "metadata": {},
   "outputs": [
    {
     "ename": "NameError",
     "evalue": "name 'pok_mut' is not defined",
     "output_type": "error",
     "traceback": [
      "\u001b[1;31m---------------------------------------------------------------------------\u001b[0m",
      "\u001b[1;31mNameError\u001b[0m                                 Traceback (most recent call last)",
      "Input \u001b[1;32mIn [59]\u001b[0m, in \u001b[0;36m<cell line: 1>\u001b[1;34m()\u001b[0m\n\u001b[1;32m----> 1\u001b[0m \u001b[43mpok_mut\u001b[49m\n",
      "\u001b[1;31mNameError\u001b[0m: name 'pok_mut' is not defined"
     ]
    }
   ],
   "source": [
    "pok_mut"
   ]
  },
  {
   "cell_type": "code",
   "execution_count": null,
   "id": "47fd3eb1",
   "metadata": {},
   "outputs": [],
   "source": [
    "goo_mut"
   ]
  },
  {
   "cell_type": "code",
   "execution_count": null,
   "id": "8ec5a92c",
   "metadata": {
    "scrolled": true
   },
   "outputs": [],
   "source": [
    "# pok_mut.sort_values(ascending=False, inplace=True)"
   ]
  },
  {
   "cell_type": "markdown",
   "id": "1eac6e56",
   "metadata": {},
   "source": [
    "# sort_index(ascending= , inplace= , ...)  Method"
   ]
  },
  {
   "cell_type": "code",
   "execution_count": null,
   "id": "4a35a14f",
   "metadata": {},
   "outputs": [],
   "source": [
    "goo_ser.sort_index(ascending=False)       # as like sort_values"
   ]
  },
  {
   "cell_type": "markdown",
   "id": "f5b9dc93",
   "metadata": {},
   "source": [
    "# ptyhon's in keyword for inclusion in series values or index"
   ]
  },
  {
   "cell_type": "code",
   "execution_count": null,
   "id": "71767daa",
   "metadata": {},
   "outputs": [],
   "source": [
    "3 in [1,2,3,4,5,33,3,45,435]"
   ]
  },
  {
   "cell_type": "code",
   "execution_count": null,
   "id": "b5c9822e",
   "metadata": {},
   "outputs": [],
   "source": [
    "\"Bulbasaur\" in pok_ser # by default it looks in index of the series"
   ]
  },
  {
   "cell_type": "code",
   "execution_count": 71,
   "id": "59d0ca45",
   "metadata": {},
   "outputs": [
    {
     "data": {
      "text/plain": [
       "True"
      ]
     },
     "execution_count": 71,
     "metadata": {},
     "output_type": "execute_result"
    }
   ],
   "source": [
    "100 in pok_ser"
   ]
  },
  {
   "cell_type": "code",
   "execution_count": 72,
   "id": "f072eead",
   "metadata": {},
   "outputs": [
    {
     "data": {
      "text/plain": [
       "True"
      ]
     },
     "execution_count": 72,
     "metadata": {},
     "output_type": "execute_result"
    }
   ],
   "source": [
    "100 in pok_ser.index # we can define"
   ]
  },
  {
   "cell_type": "code",
   "execution_count": 73,
   "id": "131ba3db",
   "metadata": {},
   "outputs": [
    {
     "data": {
      "text/plain": [
       "True"
      ]
     },
     "execution_count": 73,
     "metadata": {},
     "output_type": "execute_result"
    }
   ],
   "source": [
    "\"Bulbasaur\" in pok_ser.values    # now its found because we mention to look into the values"
   ]
  },
  {
   "cell_type": "markdown",
   "id": "b10d5de4",
   "metadata": {},
   "source": [
    "# Exact series values by index position"
   ]
  },
  {
   "cell_type": "code",
   "execution_count": null,
   "id": "94d56425",
   "metadata": {},
   "outputs": [],
   "source": [
    "goo_ser[500]"
   ]
  },
  {
   "cell_type": "code",
   "execution_count": null,
   "id": "1ec96831",
   "metadata": {},
   "outputs": [],
   "source": [
    "pok_ser[[100, 115, 655]]     # if we look for multiple selected index. have to pass an array into arraya"
   ]
  },
  {
   "cell_type": "code",
   "execution_count": null,
   "id": "8296f29d",
   "metadata": {},
   "outputs": [],
   "source": [
    "pok_ser[50:58]"
   ]
  },
  {
   "cell_type": "code",
   "execution_count": null,
   "id": "5eff8611",
   "metadata": {},
   "outputs": [],
   "source": [
    "pok_ser[715:]"
   ]
  },
  {
   "cell_type": "code",
   "execution_count": 74,
   "id": "8966ced7",
   "metadata": {},
   "outputs": [
    {
     "data": {
      "text/plain": [
       "0     Bulbasaur\n",
       "1       Ivysaur\n",
       "2      Venusaur\n",
       "3    Charmander\n",
       "4    Charmeleon\n",
       "5     Charizard\n",
       "6      Squirtle\n",
       "7     Wartortle\n",
       "8     Blastoise\n",
       "9      Caterpie\n",
       "Name: Pokemon, dtype: object"
      ]
     },
     "execution_count": 74,
     "metadata": {},
     "output_type": "execute_result"
    }
   ],
   "source": [
    "pok_ser[:10]"
   ]
  },
  {
   "cell_type": "code",
   "execution_count": 75,
   "id": "46362057",
   "metadata": {
    "collapsed": true
   },
   "outputs": [
    {
     "data": {
      "text/plain": [
       "691     Clauncher\n",
       "692     Clawitzer\n",
       "693    Helioptile\n",
       "694     Heliolisk\n",
       "695        Tyrunt\n",
       "696     Tyrantrum\n",
       "697        Amaura\n",
       "698       Aurorus\n",
       "699       Sylveon\n",
       "700      Hawlucha\n",
       "701       Dedenne\n",
       "702       Carbink\n",
       "703         Goomy\n",
       "704       Sliggoo\n",
       "705        Goodra\n",
       "706        Klefki\n",
       "707      Phantump\n",
       "708     Trevenant\n",
       "709     Pumpkaboo\n",
       "710     Gourgeist\n",
       "711      Bergmite\n",
       "712       Avalugg\n",
       "713        Noibat\n",
       "714       Noivern\n",
       "715       Xerneas\n",
       "716       Yveltal\n",
       "717       Zygarde\n",
       "718       Diancie\n",
       "719         Hoopa\n",
       "720     Volcanion\n",
       "Name: Pokemon, dtype: object"
      ]
     },
     "execution_count": 75,
     "metadata": {},
     "output_type": "execute_result"
    }
   ],
   "source": [
    "pok_ser[-30:]"
   ]
  },
  {
   "cell_type": "code",
   "execution_count": 76,
   "id": "5f7c1e53",
   "metadata": {
    "collapsed": true
   },
   "outputs": [
    {
     "data": {
      "text/plain": [
       "691     Clauncher\n",
       "692     Clawitzer\n",
       "693    Helioptile\n",
       "694     Heliolisk\n",
       "695        Tyrunt\n",
       "696     Tyrantrum\n",
       "697        Amaura\n",
       "698       Aurorus\n",
       "699       Sylveon\n",
       "700      Hawlucha\n",
       "701       Dedenne\n",
       "702       Carbink\n",
       "703         Goomy\n",
       "704       Sliggoo\n",
       "705        Goodra\n",
       "706        Klefki\n",
       "707      Phantump\n",
       "708     Trevenant\n",
       "709     Pumpkaboo\n",
       "710     Gourgeist\n",
       "Name: Pokemon, dtype: object"
      ]
     },
     "execution_count": 76,
     "metadata": {},
     "output_type": "execute_result"
    }
   ],
   "source": [
    "pok_ser[-30:-10]"
   ]
  },
  {
   "cell_type": "markdown",
   "id": "f00a1671",
   "metadata": {},
   "source": [
    "# Extract series values by index label"
   ]
  },
  {
   "cell_type": "code",
   "execution_count": null,
   "id": "31297761",
   "metadata": {},
   "outputs": [],
   "source": [
    "iv_pok = pd.read_csv(\"Pokemon.csv\", index_col=\"Pokemon\")"
   ]
  },
  {
   "cell_type": "code",
   "execution_count": null,
   "id": "2ccd1b90",
   "metadata": {},
   "outputs": [],
   "source": [
    "ivs_pok = iv_pok.squeeze()"
   ]
  },
  {
   "cell_type": "code",
   "execution_count": null,
   "id": "bce2c710",
   "metadata": {},
   "outputs": [],
   "source": [
    "ivs_pok[0]"
   ]
  },
  {
   "cell_type": "code",
   "execution_count": null,
   "id": "176617de",
   "metadata": {},
   "outputs": [],
   "source": [
    "ivs_pok[[100,134]]"
   ]
  },
  {
   "cell_type": "code",
   "execution_count": null,
   "id": "22e7dd95",
   "metadata": {},
   "outputs": [],
   "source": [
    "ivs_pok[\"Bulbasaur\"]"
   ]
  },
  {
   "cell_type": "code",
   "execution_count": null,
   "id": "fbd94c96",
   "metadata": {},
   "outputs": [],
   "source": [
    "ivs_pok.is_unique"
   ]
  },
  {
   "cell_type": "code",
   "execution_count": null,
   "id": "12344177",
   "metadata": {},
   "outputs": [],
   "source": [
    "ivs_pok[[\"Bulbasaur\", \"Electrode\", \"Jolteon\"]]"
   ]
  },
  {
   "cell_type": "code",
   "execution_count": null,
   "id": "f080690e",
   "metadata": {},
   "outputs": [],
   "source": [
    "ivs_pok[\"Bulbasaur\":\"Electrode\"]"
   ]
  },
  {
   "cell_type": "code",
   "execution_count": null,
   "id": "8c2516fe",
   "metadata": {},
   "outputs": [],
   "source": [
    "ivs_pok[\"Bulbasaur\":\"Electrode\":8]"
   ]
  },
  {
   "cell_type": "code",
   "execution_count": null,
   "id": "534510f2",
   "metadata": {},
   "outputs": [],
   "source": [
    "ivs_pok.reindex(index=[\"Pikachu\", \"Pigiman\"])  # not given an error of a missing value but providing a NaN value for that"
   ]
  },
  {
   "cell_type": "markdown",
   "id": "d0f401e2",
   "metadata": {},
   "source": [
    "# use the get() method to retrieve a value for an index label in a series"
   ]
  },
  {
   "cell_type": "markdown",
   "id": "983dc26c",
   "metadata": {},
   "source": [
    "#if any value not exist simply provide nothing but give us an error"
   ]
  },
  {
   "cell_type": "code",
   "execution_count": 78,
   "id": "c11e90ce",
   "metadata": {
    "collapsed": true
   },
   "outputs": [
    {
     "ename": "FileNotFoundError",
     "evalue": "[Errno 2] No such file or directory: 'Pokemon1.csv'",
     "output_type": "error",
     "traceback": [
      "\u001b[1;31m---------------------------------------------------------------------------\u001b[0m",
      "\u001b[1;31mFileNotFoundError\u001b[0m                         Traceback (most recent call last)",
      "Input \u001b[1;32mIn [78]\u001b[0m, in \u001b[0;36m<cell line: 1>\u001b[1;34m()\u001b[0m\n\u001b[1;32m----> 1\u001b[0m new_pok \u001b[38;5;241m=\u001b[39m \u001b[43mpd\u001b[49m\u001b[38;5;241;43m.\u001b[39;49m\u001b[43mread_csv\u001b[49m\u001b[43m(\u001b[49m\u001b[38;5;124;43m\"\u001b[39;49m\u001b[38;5;124;43mPokemon1.csv\u001b[39;49m\u001b[38;5;124;43m\"\u001b[39;49m\u001b[43m,\u001b[49m\u001b[43m \u001b[49m\u001b[43mindex_col\u001b[49m\u001b[38;5;241;43m=\u001b[39;49m\u001b[38;5;124;43m\"\u001b[39;49m\u001b[38;5;124;43mPokemon\u001b[39;49m\u001b[38;5;124;43m\"\u001b[39;49m\u001b[43m)\u001b[49m\u001b[38;5;241m.\u001b[39msqueeze()\n",
      "File \u001b[1;32m~\\anaconda3\\envs\\panadas-playground\\lib\\site-packages\\pandas\\util\\_decorators.py:311\u001b[0m, in \u001b[0;36mdeprecate_nonkeyword_arguments.<locals>.decorate.<locals>.wrapper\u001b[1;34m(*args, **kwargs)\u001b[0m\n\u001b[0;32m    305\u001b[0m \u001b[38;5;28;01mif\u001b[39;00m \u001b[38;5;28mlen\u001b[39m(args) \u001b[38;5;241m>\u001b[39m num_allow_args:\n\u001b[0;32m    306\u001b[0m     warnings\u001b[38;5;241m.\u001b[39mwarn(\n\u001b[0;32m    307\u001b[0m         msg\u001b[38;5;241m.\u001b[39mformat(arguments\u001b[38;5;241m=\u001b[39marguments),\n\u001b[0;32m    308\u001b[0m         \u001b[38;5;167;01mFutureWarning\u001b[39;00m,\n\u001b[0;32m    309\u001b[0m         stacklevel\u001b[38;5;241m=\u001b[39mstacklevel,\n\u001b[0;32m    310\u001b[0m     )\n\u001b[1;32m--> 311\u001b[0m \u001b[38;5;28;01mreturn\u001b[39;00m func(\u001b[38;5;241m*\u001b[39margs, \u001b[38;5;241m*\u001b[39m\u001b[38;5;241m*\u001b[39mkwargs)\n",
      "File \u001b[1;32m~\\anaconda3\\envs\\panadas-playground\\lib\\site-packages\\pandas\\io\\parsers\\readers.py:680\u001b[0m, in \u001b[0;36mread_csv\u001b[1;34m(filepath_or_buffer, sep, delimiter, header, names, index_col, usecols, squeeze, prefix, mangle_dupe_cols, dtype, engine, converters, true_values, false_values, skipinitialspace, skiprows, skipfooter, nrows, na_values, keep_default_na, na_filter, verbose, skip_blank_lines, parse_dates, infer_datetime_format, keep_date_col, date_parser, dayfirst, cache_dates, iterator, chunksize, compression, thousands, decimal, lineterminator, quotechar, quoting, doublequote, escapechar, comment, encoding, encoding_errors, dialect, error_bad_lines, warn_bad_lines, on_bad_lines, delim_whitespace, low_memory, memory_map, float_precision, storage_options)\u001b[0m\n\u001b[0;32m    665\u001b[0m kwds_defaults \u001b[38;5;241m=\u001b[39m _refine_defaults_read(\n\u001b[0;32m    666\u001b[0m     dialect,\n\u001b[0;32m    667\u001b[0m     delimiter,\n\u001b[1;32m   (...)\u001b[0m\n\u001b[0;32m    676\u001b[0m     defaults\u001b[38;5;241m=\u001b[39m{\u001b[38;5;124m\"\u001b[39m\u001b[38;5;124mdelimiter\u001b[39m\u001b[38;5;124m\"\u001b[39m: \u001b[38;5;124m\"\u001b[39m\u001b[38;5;124m,\u001b[39m\u001b[38;5;124m\"\u001b[39m},\n\u001b[0;32m    677\u001b[0m )\n\u001b[0;32m    678\u001b[0m kwds\u001b[38;5;241m.\u001b[39mupdate(kwds_defaults)\n\u001b[1;32m--> 680\u001b[0m \u001b[38;5;28;01mreturn\u001b[39;00m \u001b[43m_read\u001b[49m\u001b[43m(\u001b[49m\u001b[43mfilepath_or_buffer\u001b[49m\u001b[43m,\u001b[49m\u001b[43m \u001b[49m\u001b[43mkwds\u001b[49m\u001b[43m)\u001b[49m\n",
      "File \u001b[1;32m~\\anaconda3\\envs\\panadas-playground\\lib\\site-packages\\pandas\\io\\parsers\\readers.py:575\u001b[0m, in \u001b[0;36m_read\u001b[1;34m(filepath_or_buffer, kwds)\u001b[0m\n\u001b[0;32m    572\u001b[0m _validate_names(kwds\u001b[38;5;241m.\u001b[39mget(\u001b[38;5;124m\"\u001b[39m\u001b[38;5;124mnames\u001b[39m\u001b[38;5;124m\"\u001b[39m, \u001b[38;5;28;01mNone\u001b[39;00m))\n\u001b[0;32m    574\u001b[0m \u001b[38;5;66;03m# Create the parser.\u001b[39;00m\n\u001b[1;32m--> 575\u001b[0m parser \u001b[38;5;241m=\u001b[39m TextFileReader(filepath_or_buffer, \u001b[38;5;241m*\u001b[39m\u001b[38;5;241m*\u001b[39mkwds)\n\u001b[0;32m    577\u001b[0m \u001b[38;5;28;01mif\u001b[39;00m chunksize \u001b[38;5;129;01mor\u001b[39;00m iterator:\n\u001b[0;32m    578\u001b[0m     \u001b[38;5;28;01mreturn\u001b[39;00m parser\n",
      "File \u001b[1;32m~\\anaconda3\\envs\\panadas-playground\\lib\\site-packages\\pandas\\io\\parsers\\readers.py:934\u001b[0m, in \u001b[0;36mTextFileReader.__init__\u001b[1;34m(self, f, engine, **kwds)\u001b[0m\n\u001b[0;32m    931\u001b[0m     \u001b[38;5;28mself\u001b[39m\u001b[38;5;241m.\u001b[39moptions[\u001b[38;5;124m\"\u001b[39m\u001b[38;5;124mhas_index_names\u001b[39m\u001b[38;5;124m\"\u001b[39m] \u001b[38;5;241m=\u001b[39m kwds[\u001b[38;5;124m\"\u001b[39m\u001b[38;5;124mhas_index_names\u001b[39m\u001b[38;5;124m\"\u001b[39m]\n\u001b[0;32m    933\u001b[0m \u001b[38;5;28mself\u001b[39m\u001b[38;5;241m.\u001b[39mhandles: IOHandles \u001b[38;5;241m|\u001b[39m \u001b[38;5;28;01mNone\u001b[39;00m \u001b[38;5;241m=\u001b[39m \u001b[38;5;28;01mNone\u001b[39;00m\n\u001b[1;32m--> 934\u001b[0m \u001b[38;5;28mself\u001b[39m\u001b[38;5;241m.\u001b[39m_engine \u001b[38;5;241m=\u001b[39m \u001b[38;5;28;43mself\u001b[39;49m\u001b[38;5;241;43m.\u001b[39;49m\u001b[43m_make_engine\u001b[49m\u001b[43m(\u001b[49m\u001b[43mf\u001b[49m\u001b[43m,\u001b[49m\u001b[43m \u001b[49m\u001b[38;5;28;43mself\u001b[39;49m\u001b[38;5;241;43m.\u001b[39;49m\u001b[43mengine\u001b[49m\u001b[43m)\u001b[49m\n",
      "File \u001b[1;32m~\\anaconda3\\envs\\panadas-playground\\lib\\site-packages\\pandas\\io\\parsers\\readers.py:1218\u001b[0m, in \u001b[0;36mTextFileReader._make_engine\u001b[1;34m(self, f, engine)\u001b[0m\n\u001b[0;32m   1214\u001b[0m     mode \u001b[38;5;241m=\u001b[39m \u001b[38;5;124m\"\u001b[39m\u001b[38;5;124mrb\u001b[39m\u001b[38;5;124m\"\u001b[39m\n\u001b[0;32m   1215\u001b[0m \u001b[38;5;66;03m# error: No overload variant of \"get_handle\" matches argument types\u001b[39;00m\n\u001b[0;32m   1216\u001b[0m \u001b[38;5;66;03m# \"Union[str, PathLike[str], ReadCsvBuffer[bytes], ReadCsvBuffer[str]]\"\u001b[39;00m\n\u001b[0;32m   1217\u001b[0m \u001b[38;5;66;03m# , \"str\", \"bool\", \"Any\", \"Any\", \"Any\", \"Any\", \"Any\"\u001b[39;00m\n\u001b[1;32m-> 1218\u001b[0m \u001b[38;5;28mself\u001b[39m\u001b[38;5;241m.\u001b[39mhandles \u001b[38;5;241m=\u001b[39m \u001b[43mget_handle\u001b[49m\u001b[43m(\u001b[49m\u001b[43m  \u001b[49m\u001b[38;5;66;43;03m# type: ignore[call-overload]\u001b[39;49;00m\n\u001b[0;32m   1219\u001b[0m \u001b[43m    \u001b[49m\u001b[43mf\u001b[49m\u001b[43m,\u001b[49m\n\u001b[0;32m   1220\u001b[0m \u001b[43m    \u001b[49m\u001b[43mmode\u001b[49m\u001b[43m,\u001b[49m\n\u001b[0;32m   1221\u001b[0m \u001b[43m    \u001b[49m\u001b[43mencoding\u001b[49m\u001b[38;5;241;43m=\u001b[39;49m\u001b[38;5;28;43mself\u001b[39;49m\u001b[38;5;241;43m.\u001b[39;49m\u001b[43moptions\u001b[49m\u001b[38;5;241;43m.\u001b[39;49m\u001b[43mget\u001b[49m\u001b[43m(\u001b[49m\u001b[38;5;124;43m\"\u001b[39;49m\u001b[38;5;124;43mencoding\u001b[39;49m\u001b[38;5;124;43m\"\u001b[39;49m\u001b[43m,\u001b[49m\u001b[43m \u001b[49m\u001b[38;5;28;43;01mNone\u001b[39;49;00m\u001b[43m)\u001b[49m\u001b[43m,\u001b[49m\n\u001b[0;32m   1222\u001b[0m \u001b[43m    \u001b[49m\u001b[43mcompression\u001b[49m\u001b[38;5;241;43m=\u001b[39;49m\u001b[38;5;28;43mself\u001b[39;49m\u001b[38;5;241;43m.\u001b[39;49m\u001b[43moptions\u001b[49m\u001b[38;5;241;43m.\u001b[39;49m\u001b[43mget\u001b[49m\u001b[43m(\u001b[49m\u001b[38;5;124;43m\"\u001b[39;49m\u001b[38;5;124;43mcompression\u001b[39;49m\u001b[38;5;124;43m\"\u001b[39;49m\u001b[43m,\u001b[49m\u001b[43m \u001b[49m\u001b[38;5;28;43;01mNone\u001b[39;49;00m\u001b[43m)\u001b[49m\u001b[43m,\u001b[49m\n\u001b[0;32m   1223\u001b[0m \u001b[43m    \u001b[49m\u001b[43mmemory_map\u001b[49m\u001b[38;5;241;43m=\u001b[39;49m\u001b[38;5;28;43mself\u001b[39;49m\u001b[38;5;241;43m.\u001b[39;49m\u001b[43moptions\u001b[49m\u001b[38;5;241;43m.\u001b[39;49m\u001b[43mget\u001b[49m\u001b[43m(\u001b[49m\u001b[38;5;124;43m\"\u001b[39;49m\u001b[38;5;124;43mmemory_map\u001b[39;49m\u001b[38;5;124;43m\"\u001b[39;49m\u001b[43m,\u001b[49m\u001b[43m \u001b[49m\u001b[38;5;28;43;01mFalse\u001b[39;49;00m\u001b[43m)\u001b[49m\u001b[43m,\u001b[49m\n\u001b[0;32m   1224\u001b[0m \u001b[43m    \u001b[49m\u001b[43mis_text\u001b[49m\u001b[38;5;241;43m=\u001b[39;49m\u001b[43mis_text\u001b[49m\u001b[43m,\u001b[49m\n\u001b[0;32m   1225\u001b[0m \u001b[43m    \u001b[49m\u001b[43merrors\u001b[49m\u001b[38;5;241;43m=\u001b[39;49m\u001b[38;5;28;43mself\u001b[39;49m\u001b[38;5;241;43m.\u001b[39;49m\u001b[43moptions\u001b[49m\u001b[38;5;241;43m.\u001b[39;49m\u001b[43mget\u001b[49m\u001b[43m(\u001b[49m\u001b[38;5;124;43m\"\u001b[39;49m\u001b[38;5;124;43mencoding_errors\u001b[39;49m\u001b[38;5;124;43m\"\u001b[39;49m\u001b[43m,\u001b[49m\u001b[43m \u001b[49m\u001b[38;5;124;43m\"\u001b[39;49m\u001b[38;5;124;43mstrict\u001b[39;49m\u001b[38;5;124;43m\"\u001b[39;49m\u001b[43m)\u001b[49m\u001b[43m,\u001b[49m\n\u001b[0;32m   1226\u001b[0m \u001b[43m    \u001b[49m\u001b[43mstorage_options\u001b[49m\u001b[38;5;241;43m=\u001b[39;49m\u001b[38;5;28;43mself\u001b[39;49m\u001b[38;5;241;43m.\u001b[39;49m\u001b[43moptions\u001b[49m\u001b[38;5;241;43m.\u001b[39;49m\u001b[43mget\u001b[49m\u001b[43m(\u001b[49m\u001b[38;5;124;43m\"\u001b[39;49m\u001b[38;5;124;43mstorage_options\u001b[39;49m\u001b[38;5;124;43m\"\u001b[39;49m\u001b[43m,\u001b[49m\u001b[43m \u001b[49m\u001b[38;5;28;43;01mNone\u001b[39;49;00m\u001b[43m)\u001b[49m\u001b[43m,\u001b[49m\n\u001b[0;32m   1227\u001b[0m \u001b[43m\u001b[49m\u001b[43m)\u001b[49m\n\u001b[0;32m   1228\u001b[0m \u001b[38;5;28;01massert\u001b[39;00m \u001b[38;5;28mself\u001b[39m\u001b[38;5;241m.\u001b[39mhandles \u001b[38;5;129;01mis\u001b[39;00m \u001b[38;5;129;01mnot\u001b[39;00m \u001b[38;5;28;01mNone\u001b[39;00m\n\u001b[0;32m   1229\u001b[0m f \u001b[38;5;241m=\u001b[39m \u001b[38;5;28mself\u001b[39m\u001b[38;5;241m.\u001b[39mhandles\u001b[38;5;241m.\u001b[39mhandle\n",
      "File \u001b[1;32m~\\anaconda3\\envs\\panadas-playground\\lib\\site-packages\\pandas\\io\\common.py:786\u001b[0m, in \u001b[0;36mget_handle\u001b[1;34m(path_or_buf, mode, encoding, compression, memory_map, is_text, errors, storage_options)\u001b[0m\n\u001b[0;32m    781\u001b[0m \u001b[38;5;28;01melif\u001b[39;00m \u001b[38;5;28misinstance\u001b[39m(handle, \u001b[38;5;28mstr\u001b[39m):\n\u001b[0;32m    782\u001b[0m     \u001b[38;5;66;03m# Check whether the filename is to be opened in binary mode.\u001b[39;00m\n\u001b[0;32m    783\u001b[0m     \u001b[38;5;66;03m# Binary mode does not support 'encoding' and 'newline'.\u001b[39;00m\n\u001b[0;32m    784\u001b[0m     \u001b[38;5;28;01mif\u001b[39;00m ioargs\u001b[38;5;241m.\u001b[39mencoding \u001b[38;5;129;01mand\u001b[39;00m \u001b[38;5;124m\"\u001b[39m\u001b[38;5;124mb\u001b[39m\u001b[38;5;124m\"\u001b[39m \u001b[38;5;129;01mnot\u001b[39;00m \u001b[38;5;129;01min\u001b[39;00m ioargs\u001b[38;5;241m.\u001b[39mmode:\n\u001b[0;32m    785\u001b[0m         \u001b[38;5;66;03m# Encoding\u001b[39;00m\n\u001b[1;32m--> 786\u001b[0m         handle \u001b[38;5;241m=\u001b[39m \u001b[38;5;28;43mopen\u001b[39;49m\u001b[43m(\u001b[49m\n\u001b[0;32m    787\u001b[0m \u001b[43m            \u001b[49m\u001b[43mhandle\u001b[49m\u001b[43m,\u001b[49m\n\u001b[0;32m    788\u001b[0m \u001b[43m            \u001b[49m\u001b[43mioargs\u001b[49m\u001b[38;5;241;43m.\u001b[39;49m\u001b[43mmode\u001b[49m\u001b[43m,\u001b[49m\n\u001b[0;32m    789\u001b[0m \u001b[43m            \u001b[49m\u001b[43mencoding\u001b[49m\u001b[38;5;241;43m=\u001b[39;49m\u001b[43mioargs\u001b[49m\u001b[38;5;241;43m.\u001b[39;49m\u001b[43mencoding\u001b[49m\u001b[43m,\u001b[49m\n\u001b[0;32m    790\u001b[0m \u001b[43m            \u001b[49m\u001b[43merrors\u001b[49m\u001b[38;5;241;43m=\u001b[39;49m\u001b[43merrors\u001b[49m\u001b[43m,\u001b[49m\n\u001b[0;32m    791\u001b[0m \u001b[43m            \u001b[49m\u001b[43mnewline\u001b[49m\u001b[38;5;241;43m=\u001b[39;49m\u001b[38;5;124;43m\"\u001b[39;49m\u001b[38;5;124;43m\"\u001b[39;49m\u001b[43m,\u001b[49m\n\u001b[0;32m    792\u001b[0m \u001b[43m        \u001b[49m\u001b[43m)\u001b[49m\n\u001b[0;32m    793\u001b[0m     \u001b[38;5;28;01melse\u001b[39;00m:\n\u001b[0;32m    794\u001b[0m         \u001b[38;5;66;03m# Binary mode\u001b[39;00m\n\u001b[0;32m    795\u001b[0m         handle \u001b[38;5;241m=\u001b[39m \u001b[38;5;28mopen\u001b[39m(handle, ioargs\u001b[38;5;241m.\u001b[39mmode)\n",
      "\u001b[1;31mFileNotFoundError\u001b[0m: [Errno 2] No such file or directory: 'Pokemon1.csv'"
     ]
    }
   ],
   "source": [
    "new_pok = pd.read_csv(\"Pokemon1.csv\", index_col=\"Pokemon\").squeeze()"
   ]
  },
  {
   "cell_type": "code",
   "execution_count": null,
   "id": "8d41c9f1",
   "metadata": {},
   "outputs": [],
   "source": [
    "neww = new_pok.sort_values()"
   ]
  },
  {
   "cell_type": "code",
   "execution_count": 77,
   "id": "ae28f21c",
   "metadata": {
    "collapsed": true
   },
   "outputs": [
    {
     "ename": "NameError",
     "evalue": "name 'neww' is not defined",
     "output_type": "error",
     "traceback": [
      "\u001b[1;31m---------------------------------------------------------------------------\u001b[0m",
      "\u001b[1;31mNameError\u001b[0m                                 Traceback (most recent call last)",
      "Input \u001b[1;32mIn [77]\u001b[0m, in \u001b[0;36m<cell line: 1>\u001b[1;34m()\u001b[0m\n\u001b[1;32m----> 1\u001b[0m \u001b[43mneww\u001b[49m\u001b[38;5;241m.\u001b[39mget(\u001b[38;5;241m0\u001b[39m)\n",
      "\u001b[1;31mNameError\u001b[0m: name 'neww' is not defined"
     ]
    }
   ],
   "source": [
    "neww.get(0)"
   ]
  },
  {
   "cell_type": "code",
   "execution_count": null,
   "id": "954d9f80",
   "metadata": {},
   "outputs": [],
   "source": [
    "neww"
   ]
  },
  {
   "cell_type": "code",
   "execution_count": null,
   "id": "9fd27646",
   "metadata": {},
   "outputs": [],
   "source": [
    "neww.get(\"Burmy\")"
   ]
  },
  {
   "cell_type": "code",
   "execution_count": null,
   "id": "c5c83fec",
   "metadata": {},
   "outputs": [],
   "source": [
    "neww.get([0,5])"
   ]
  },
  {
   "cell_type": "code",
   "execution_count": null,
   "id": "ff36de53",
   "metadata": {},
   "outputs": [],
   "source": [
    "neww.get([0:5])      # doesn't work"
   ]
  },
  {
   "cell_type": "markdown",
   "id": "96f13188",
   "metadata": {},
   "source": [
    "# Math methods on series object"
   ]
  },
  {
   "cell_type": "code",
   "execution_count": null,
   "id": "9aece752",
   "metadata": {},
   "outputs": [],
   "source": [
    "goo_ser.count()      #almost same as len() but here it doesn't count the empty cell"
   ]
  },
  {
   "cell_type": "code",
   "execution_count": null,
   "id": "bda1aa00",
   "metadata": {},
   "outputs": [],
   "source": [
    "goo_ser.sum()"
   ]
  },
  {
   "cell_type": "code",
   "execution_count": null,
   "id": "17943009",
   "metadata": {},
   "outputs": [],
   "source": [
    "goo_ser.std()"
   ]
  },
  {
   "cell_type": "code",
   "execution_count": null,
   "id": "67ae1cf2",
   "metadata": {},
   "outputs": [],
   "source": [
    "goo_ser.min()"
   ]
  },
  {
   "cell_type": "code",
   "execution_count": null,
   "id": "46b5f3d8",
   "metadata": {},
   "outputs": [],
   "source": [
    "goo_ser.max()"
   ]
  },
  {
   "cell_type": "code",
   "execution_count": null,
   "id": "ff390305",
   "metadata": {},
   "outputs": [],
   "source": [
    "goo_ser.mean()"
   ]
  },
  {
   "cell_type": "code",
   "execution_count": 81,
   "id": "169619e2",
   "metadata": {},
   "outputs": [
    {
     "data": {
      "text/plain": [
       "283.315"
      ]
     },
     "execution_count": 81,
     "metadata": {},
     "output_type": "execute_result"
    }
   ],
   "source": [
    "goo_ser.median()"
   ]
  },
  {
   "cell_type": "code",
   "execution_count": 79,
   "id": "0d4d59d9",
   "metadata": {},
   "outputs": [
    {
     "data": {
      "text/plain": [
       "0    291.21\n",
       "Name: Stock Price, dtype: float64"
      ]
     },
     "execution_count": 79,
     "metadata": {},
     "output_type": "execute_result"
    }
   ],
   "source": [
    "goo_ser.mode()"
   ]
  },
  {
   "cell_type": "code",
   "execution_count": 80,
   "id": "e8bf4dab",
   "metadata": {},
   "outputs": [
    {
     "data": {
      "text/plain": [
       "count    3012.000000\n",
       "mean      334.310093\n",
       "std       173.187205\n",
       "min        49.950000\n",
       "25%       218.045000\n",
       "50%       283.315000\n",
       "75%       443.000000\n",
       "max       782.220000\n",
       "Name: Stock Price, dtype: float64"
      ]
     },
     "execution_count": 80,
     "metadata": {},
     "output_type": "execute_result"
    }
   ],
   "source": [
    "goo_ser.describe()"
   ]
  },
  {
   "cell_type": "markdown",
   "id": "26d68db5",
   "metadata": {},
   "source": [
    "## use idxmax() and idxmin() to find greatest or smallest index of the corresponding value"
   ]
  },
  {
   "cell_type": "code",
   "execution_count": null,
   "id": "addd095f",
   "metadata": {},
   "outputs": [],
   "source": [
    "goo_ser.idxmax()"
   ]
  },
  {
   "cell_type": "code",
   "execution_count": null,
   "id": "e87ccace",
   "metadata": {},
   "outputs": [],
   "source": [
    "goo_ser.idxmin()"
   ]
  },
  {
   "cell_type": "code",
   "execution_count": null,
   "id": "9916ff4c",
   "metadata": {},
   "outputs": [],
   "source": [
    "goo_ser[goo_ser.idxmax()]"
   ]
  },
  {
   "cell_type": "markdown",
   "id": "2b4aa579",
   "metadata": {},
   "source": [
    "# the value_count method to see counts of unique values within a series"
   ]
  },
  {
   "cell_type": "code",
   "execution_count": 82,
   "id": "fcca8f72",
   "metadata": {},
   "outputs": [
    {
     "data": {
      "text/plain": [
       "291.21    5\n",
       "307.94    3\n",
       "289.71    3\n",
       "243.26    3\n",
       "194.80    3\n",
       "         ..\n",
       "195.05    1\n",
       "193.26    1\n",
       "185.42    1\n",
       "172.83    1\n",
       "782.22    1\n",
       "Name: Stock Price, Length: 2886, dtype: int64"
      ]
     },
     "execution_count": 82,
     "metadata": {},
     "output_type": "execute_result"
    }
   ],
   "source": [
    "goo_ser.value_counts()    #can see the freq."
   ]
  },
  {
   "cell_type": "code",
   "execution_count": 83,
   "id": "c0d56c55",
   "metadata": {},
   "outputs": [
    {
     "data": {
      "text/plain": [
       "3012"
      ]
     },
     "execution_count": 83,
     "metadata": {},
     "output_type": "execute_result"
    }
   ],
   "source": [
    "goo_ser.value_counts().sum()"
   ]
  },
  {
   "cell_type": "code",
   "execution_count": null,
   "id": "19d77183",
   "metadata": {},
   "outputs": [],
   "source": [
    "goo_ser.value_counts().head(10)"
   ]
  },
  {
   "cell_type": "code",
   "execution_count": null,
   "id": "eec23f28",
   "metadata": {},
   "outputs": [],
   "source": [
    "goo_ser.index"
   ]
  },
  {
   "cell_type": "code",
   "execution_count": null,
   "id": "3016690c",
   "metadata": {},
   "outputs": [],
   "source": [
    "goo_ser.value_counts(ascending=True)      # freq lowest to highest"
   ]
  },
  {
   "cell_type": "markdown",
   "id": "41689b68",
   "metadata": {},
   "source": [
    "# use the apply() method to invoke a function on every series values"
   ]
  },
  {
   "cell_type": "code",
   "execution_count": 85,
   "id": "cc5f2dd8",
   "metadata": {},
   "outputs": [],
   "source": [
    "def classify_performance(number):\n",
    "    if number < 300:\n",
    "        return \"OK\"\n",
    "    elif number >= 300 and number < 650:\n",
    "        return \"Satisfactory\"\n",
    "    else:\n",
    "        return \"Incredible\""
   ]
  },
  {
   "cell_type": "code",
   "execution_count": 86,
   "id": "6afe3929",
   "metadata": {},
   "outputs": [
    {
     "data": {
      "text/plain": [
       "0               OK\n",
       "1               OK\n",
       "2               OK\n",
       "3               OK\n",
       "4               OK\n",
       "           ...    \n",
       "3007    Incredible\n",
       "3008    Incredible\n",
       "3009    Incredible\n",
       "3010    Incredible\n",
       "3011    Incredible\n",
       "Name: Stock Price, Length: 3012, dtype: object"
      ]
     },
     "execution_count": 86,
     "metadata": {},
     "output_type": "execute_result"
    }
   ],
   "source": [
    "goo_ser.apply(classify_performance)"
   ]
  },
  {
   "cell_type": "code",
   "execution_count": null,
   "id": "65ea45f5",
   "metadata": {},
   "outputs": [],
   "source": [
    "goo_ser.apply(lambda stock_price: stock_price+1)"
   ]
  },
  {
   "cell_type": "markdown",
   "id": "3d8907fc",
   "metadata": {},
   "source": [
    "# The series map() method"
   ]
  },
  {
   "cell_type": "code",
   "execution_count": 88,
   "id": "e0b4e711",
   "metadata": {},
   "outputs": [],
   "source": [
    "pokemon_names = pd.read_csv(\"Pokemon.csv\", usecols=[\"Pokemon\"]).squeeze()\n",
    "pokemon_types = pd.read_csv(\"Pokemon.csv\", index_col=\"Pokemon\").squeeze()"
   ]
  },
  {
   "cell_type": "code",
   "execution_count": 89,
   "id": "50e062f9",
   "metadata": {},
   "outputs": [
    {
     "data": {
      "text/plain": [
       "0        Grass\n",
       "1        Grass\n",
       "2        Grass\n",
       "3         Fire\n",
       "4         Fire\n",
       "        ...   \n",
       "716       Dark\n",
       "717     Dragon\n",
       "718       Rock\n",
       "719    Psychic\n",
       "720       Fire\n",
       "Name: Pokemon, Length: 721, dtype: object"
      ]
     },
     "execution_count": 89,
     "metadata": {},
     "output_type": "execute_result"
    }
   ],
   "source": [
    "pokemon_names.map(pokemon_types)       #something like excel vlookup"
   ]
  },
  {
   "cell_type": "code",
   "execution_count": null,
   "id": "25b95e6d",
   "metadata": {},
   "outputs": [],
   "source": [
    "dn = pokemon_names.to_dict()\n",
    "dt = pokemon_types.to_dict()"
   ]
  },
  {
   "cell_type": "code",
   "execution_count": null,
   "id": "8c7f1345",
   "metadata": {},
   "outputs": [],
   "source": [
    "dn"
   ]
  },
  {
   "cell_type": "code",
   "execution_count": null,
   "id": "00b1a37a",
   "metadata": {},
   "outputs": [],
   "source": [
    "dt"
   ]
  },
  {
   "cell_type": "code",
   "execution_count": null,
   "id": "d6dbc8c4",
   "metadata": {},
   "outputs": [],
   "source": []
  },
  {
   "cell_type": "code",
   "execution_count": null,
   "id": "10b2d6ac",
   "metadata": {},
   "outputs": [],
   "source": []
  }
 ],
 "metadata": {
  "kernelspec": {
   "display_name": "Python 3 (ipykernel)",
   "language": "python",
   "name": "python3"
  },
  "language_info": {
   "codemirror_mode": {
    "name": "ipython",
    "version": 3
   },
   "file_extension": ".py",
   "mimetype": "text/x-python",
   "name": "python",
   "nbconvert_exporter": "python",
   "pygments_lexer": "ipython3",
   "version": "3.10.4"
  }
 },
 "nbformat": 4,
 "nbformat_minor": 5
}
